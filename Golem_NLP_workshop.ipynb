{
  "nbformat": 4,
  "nbformat_minor": 0,
  "metadata": {
    "colab": {
      "provenance": [],
      "collapsed_sections": [
        "hlOENOvXXMTh",
        "gTFCe5KkuADu",
        "XA5DASeTer5V"
      ]
    },
    "kernelspec": {
      "name": "python3",
      "display_name": "Python 3"
    },
    "language_info": {
      "name": "python"
    },
    "accelerator": "GPU",
    "gpuClass": "standard",
    "widgets": {
      "application/vnd.jupyter.widget-state+json": {
        "03c75fa0ce284566b66192c047051466": {
          "model_module": "@jupyter-widgets/controls",
          "model_name": "HBoxModel",
          "model_module_version": "1.5.0",
          "state": {
            "_dom_classes": [],
            "_model_module": "@jupyter-widgets/controls",
            "_model_module_version": "1.5.0",
            "_model_name": "HBoxModel",
            "_view_count": null,
            "_view_module": "@jupyter-widgets/controls",
            "_view_module_version": "1.5.0",
            "_view_name": "HBoxView",
            "box_style": "",
            "children": [
              "IPY_MODEL_29fb26ac64cf495c93f5f0ada7c4d9e9",
              "IPY_MODEL_42ab0376d4b147578a1ddebabb99721c",
              "IPY_MODEL_bc769fc141a8416394846b41e261315a"
            ],
            "layout": "IPY_MODEL_f90ee003ef4949c2830692c8817f673f"
          }
        },
        "29fb26ac64cf495c93f5f0ada7c4d9e9": {
          "model_module": "@jupyter-widgets/controls",
          "model_name": "HTMLModel",
          "model_module_version": "1.5.0",
          "state": {
            "_dom_classes": [],
            "_model_module": "@jupyter-widgets/controls",
            "_model_module_version": "1.5.0",
            "_model_name": "HTMLModel",
            "_view_count": null,
            "_view_module": "@jupyter-widgets/controls",
            "_view_module_version": "1.5.0",
            "_view_name": "HTMLView",
            "description": "",
            "description_tooltip": null,
            "layout": "IPY_MODEL_d6e036718e7f49c88c98c97c7f01ae79",
            "placeholder": "​",
            "style": "IPY_MODEL_da7532965bf64072879e9bc08196f4bc",
            "value": "Downloading (…)solve/main/vocab.txt: 100%"
          }
        },
        "42ab0376d4b147578a1ddebabb99721c": {
          "model_module": "@jupyter-widgets/controls",
          "model_name": "FloatProgressModel",
          "model_module_version": "1.5.0",
          "state": {
            "_dom_classes": [],
            "_model_module": "@jupyter-widgets/controls",
            "_model_module_version": "1.5.0",
            "_model_name": "FloatProgressModel",
            "_view_count": null,
            "_view_module": "@jupyter-widgets/controls",
            "_view_module_version": "1.5.0",
            "_view_name": "ProgressView",
            "bar_style": "success",
            "description": "",
            "description_tooltip": null,
            "layout": "IPY_MODEL_9f3abc59243f491e9a3c2fef2b52199a",
            "max": 231508,
            "min": 0,
            "orientation": "horizontal",
            "style": "IPY_MODEL_2104eb5d41c24076b9bc76c80d878a6c",
            "value": 231508
          }
        },
        "bc769fc141a8416394846b41e261315a": {
          "model_module": "@jupyter-widgets/controls",
          "model_name": "HTMLModel",
          "model_module_version": "1.5.0",
          "state": {
            "_dom_classes": [],
            "_model_module": "@jupyter-widgets/controls",
            "_model_module_version": "1.5.0",
            "_model_name": "HTMLModel",
            "_view_count": null,
            "_view_module": "@jupyter-widgets/controls",
            "_view_module_version": "1.5.0",
            "_view_name": "HTMLView",
            "description": "",
            "description_tooltip": null,
            "layout": "IPY_MODEL_f1ff33f5ab264b5e8dbf6eaedceb8f7c",
            "placeholder": "​",
            "style": "IPY_MODEL_a3365372df554b19b26391e0c79620ad",
            "value": " 232k/232k [00:00&lt;00:00, 2.68MB/s]"
          }
        },
        "f90ee003ef4949c2830692c8817f673f": {
          "model_module": "@jupyter-widgets/base",
          "model_name": "LayoutModel",
          "model_module_version": "1.2.0",
          "state": {
            "_model_module": "@jupyter-widgets/base",
            "_model_module_version": "1.2.0",
            "_model_name": "LayoutModel",
            "_view_count": null,
            "_view_module": "@jupyter-widgets/base",
            "_view_module_version": "1.2.0",
            "_view_name": "LayoutView",
            "align_content": null,
            "align_items": null,
            "align_self": null,
            "border": null,
            "bottom": null,
            "display": null,
            "flex": null,
            "flex_flow": null,
            "grid_area": null,
            "grid_auto_columns": null,
            "grid_auto_flow": null,
            "grid_auto_rows": null,
            "grid_column": null,
            "grid_gap": null,
            "grid_row": null,
            "grid_template_areas": null,
            "grid_template_columns": null,
            "grid_template_rows": null,
            "height": null,
            "justify_content": null,
            "justify_items": null,
            "left": null,
            "margin": null,
            "max_height": null,
            "max_width": null,
            "min_height": null,
            "min_width": null,
            "object_fit": null,
            "object_position": null,
            "order": null,
            "overflow": null,
            "overflow_x": null,
            "overflow_y": null,
            "padding": null,
            "right": null,
            "top": null,
            "visibility": null,
            "width": null
          }
        },
        "d6e036718e7f49c88c98c97c7f01ae79": {
          "model_module": "@jupyter-widgets/base",
          "model_name": "LayoutModel",
          "model_module_version": "1.2.0",
          "state": {
            "_model_module": "@jupyter-widgets/base",
            "_model_module_version": "1.2.0",
            "_model_name": "LayoutModel",
            "_view_count": null,
            "_view_module": "@jupyter-widgets/base",
            "_view_module_version": "1.2.0",
            "_view_name": "LayoutView",
            "align_content": null,
            "align_items": null,
            "align_self": null,
            "border": null,
            "bottom": null,
            "display": null,
            "flex": null,
            "flex_flow": null,
            "grid_area": null,
            "grid_auto_columns": null,
            "grid_auto_flow": null,
            "grid_auto_rows": null,
            "grid_column": null,
            "grid_gap": null,
            "grid_row": null,
            "grid_template_areas": null,
            "grid_template_columns": null,
            "grid_template_rows": null,
            "height": null,
            "justify_content": null,
            "justify_items": null,
            "left": null,
            "margin": null,
            "max_height": null,
            "max_width": null,
            "min_height": null,
            "min_width": null,
            "object_fit": null,
            "object_position": null,
            "order": null,
            "overflow": null,
            "overflow_x": null,
            "overflow_y": null,
            "padding": null,
            "right": null,
            "top": null,
            "visibility": null,
            "width": null
          }
        },
        "da7532965bf64072879e9bc08196f4bc": {
          "model_module": "@jupyter-widgets/controls",
          "model_name": "DescriptionStyleModel",
          "model_module_version": "1.5.0",
          "state": {
            "_model_module": "@jupyter-widgets/controls",
            "_model_module_version": "1.5.0",
            "_model_name": "DescriptionStyleModel",
            "_view_count": null,
            "_view_module": "@jupyter-widgets/base",
            "_view_module_version": "1.2.0",
            "_view_name": "StyleView",
            "description_width": ""
          }
        },
        "9f3abc59243f491e9a3c2fef2b52199a": {
          "model_module": "@jupyter-widgets/base",
          "model_name": "LayoutModel",
          "model_module_version": "1.2.0",
          "state": {
            "_model_module": "@jupyter-widgets/base",
            "_model_module_version": "1.2.0",
            "_model_name": "LayoutModel",
            "_view_count": null,
            "_view_module": "@jupyter-widgets/base",
            "_view_module_version": "1.2.0",
            "_view_name": "LayoutView",
            "align_content": null,
            "align_items": null,
            "align_self": null,
            "border": null,
            "bottom": null,
            "display": null,
            "flex": null,
            "flex_flow": null,
            "grid_area": null,
            "grid_auto_columns": null,
            "grid_auto_flow": null,
            "grid_auto_rows": null,
            "grid_column": null,
            "grid_gap": null,
            "grid_row": null,
            "grid_template_areas": null,
            "grid_template_columns": null,
            "grid_template_rows": null,
            "height": null,
            "justify_content": null,
            "justify_items": null,
            "left": null,
            "margin": null,
            "max_height": null,
            "max_width": null,
            "min_height": null,
            "min_width": null,
            "object_fit": null,
            "object_position": null,
            "order": null,
            "overflow": null,
            "overflow_x": null,
            "overflow_y": null,
            "padding": null,
            "right": null,
            "top": null,
            "visibility": null,
            "width": null
          }
        },
        "2104eb5d41c24076b9bc76c80d878a6c": {
          "model_module": "@jupyter-widgets/controls",
          "model_name": "ProgressStyleModel",
          "model_module_version": "1.5.0",
          "state": {
            "_model_module": "@jupyter-widgets/controls",
            "_model_module_version": "1.5.0",
            "_model_name": "ProgressStyleModel",
            "_view_count": null,
            "_view_module": "@jupyter-widgets/base",
            "_view_module_version": "1.2.0",
            "_view_name": "StyleView",
            "bar_color": null,
            "description_width": ""
          }
        },
        "f1ff33f5ab264b5e8dbf6eaedceb8f7c": {
          "model_module": "@jupyter-widgets/base",
          "model_name": "LayoutModel",
          "model_module_version": "1.2.0",
          "state": {
            "_model_module": "@jupyter-widgets/base",
            "_model_module_version": "1.2.0",
            "_model_name": "LayoutModel",
            "_view_count": null,
            "_view_module": "@jupyter-widgets/base",
            "_view_module_version": "1.2.0",
            "_view_name": "LayoutView",
            "align_content": null,
            "align_items": null,
            "align_self": null,
            "border": null,
            "bottom": null,
            "display": null,
            "flex": null,
            "flex_flow": null,
            "grid_area": null,
            "grid_auto_columns": null,
            "grid_auto_flow": null,
            "grid_auto_rows": null,
            "grid_column": null,
            "grid_gap": null,
            "grid_row": null,
            "grid_template_areas": null,
            "grid_template_columns": null,
            "grid_template_rows": null,
            "height": null,
            "justify_content": null,
            "justify_items": null,
            "left": null,
            "margin": null,
            "max_height": null,
            "max_width": null,
            "min_height": null,
            "min_width": null,
            "object_fit": null,
            "object_position": null,
            "order": null,
            "overflow": null,
            "overflow_x": null,
            "overflow_y": null,
            "padding": null,
            "right": null,
            "top": null,
            "visibility": null,
            "width": null
          }
        },
        "a3365372df554b19b26391e0c79620ad": {
          "model_module": "@jupyter-widgets/controls",
          "model_name": "DescriptionStyleModel",
          "model_module_version": "1.5.0",
          "state": {
            "_model_module": "@jupyter-widgets/controls",
            "_model_module_version": "1.5.0",
            "_model_name": "DescriptionStyleModel",
            "_view_count": null,
            "_view_module": "@jupyter-widgets/base",
            "_view_module_version": "1.2.0",
            "_view_name": "StyleView",
            "description_width": ""
          }
        },
        "971b62e8a5644d7e80892d2db8fe96b0": {
          "model_module": "@jupyter-widgets/controls",
          "model_name": "HBoxModel",
          "model_module_version": "1.5.0",
          "state": {
            "_dom_classes": [],
            "_model_module": "@jupyter-widgets/controls",
            "_model_module_version": "1.5.0",
            "_model_name": "HBoxModel",
            "_view_count": null,
            "_view_module": "@jupyter-widgets/controls",
            "_view_module_version": "1.5.0",
            "_view_name": "HBoxView",
            "box_style": "",
            "children": [
              "IPY_MODEL_346d55bfe87e4e789f1f44945dc0c07f",
              "IPY_MODEL_d3eba3a5c2d5450890d0488cdf24dd1b",
              "IPY_MODEL_b62d871d8e654065a9f6dd757dea4f52"
            ],
            "layout": "IPY_MODEL_a2efbeeef6024193a463fefe08314f66"
          }
        },
        "346d55bfe87e4e789f1f44945dc0c07f": {
          "model_module": "@jupyter-widgets/controls",
          "model_name": "HTMLModel",
          "model_module_version": "1.5.0",
          "state": {
            "_dom_classes": [],
            "_model_module": "@jupyter-widgets/controls",
            "_model_module_version": "1.5.0",
            "_model_name": "HTMLModel",
            "_view_count": null,
            "_view_module": "@jupyter-widgets/controls",
            "_view_module_version": "1.5.0",
            "_view_name": "HTMLView",
            "description": "",
            "description_tooltip": null,
            "layout": "IPY_MODEL_3538606d055f4d389a5caeaab67570fe",
            "placeholder": "​",
            "style": "IPY_MODEL_9be7949e02a14407be9229b6eb295c2e",
            "value": "Downloading (…)okenizer_config.json: 100%"
          }
        },
        "d3eba3a5c2d5450890d0488cdf24dd1b": {
          "model_module": "@jupyter-widgets/controls",
          "model_name": "FloatProgressModel",
          "model_module_version": "1.5.0",
          "state": {
            "_dom_classes": [],
            "_model_module": "@jupyter-widgets/controls",
            "_model_module_version": "1.5.0",
            "_model_name": "FloatProgressModel",
            "_view_count": null,
            "_view_module": "@jupyter-widgets/controls",
            "_view_module_version": "1.5.0",
            "_view_name": "ProgressView",
            "bar_style": "success",
            "description": "",
            "description_tooltip": null,
            "layout": "IPY_MODEL_da031cc7a69341dda3cd7eb41d01b687",
            "max": 28,
            "min": 0,
            "orientation": "horizontal",
            "style": "IPY_MODEL_d34e8e6dfc854ababb393ad4fdc475d8",
            "value": 28
          }
        },
        "b62d871d8e654065a9f6dd757dea4f52": {
          "model_module": "@jupyter-widgets/controls",
          "model_name": "HTMLModel",
          "model_module_version": "1.5.0",
          "state": {
            "_dom_classes": [],
            "_model_module": "@jupyter-widgets/controls",
            "_model_module_version": "1.5.0",
            "_model_name": "HTMLModel",
            "_view_count": null,
            "_view_module": "@jupyter-widgets/controls",
            "_view_module_version": "1.5.0",
            "_view_name": "HTMLView",
            "description": "",
            "description_tooltip": null,
            "layout": "IPY_MODEL_e319d89ab6b84ce1a9b5391fa1a91790",
            "placeholder": "​",
            "style": "IPY_MODEL_df079efc856b4a0b9c2190c2b877a74f",
            "value": " 28.0/28.0 [00:00&lt;00:00, 1.08kB/s]"
          }
        },
        "a2efbeeef6024193a463fefe08314f66": {
          "model_module": "@jupyter-widgets/base",
          "model_name": "LayoutModel",
          "model_module_version": "1.2.0",
          "state": {
            "_model_module": "@jupyter-widgets/base",
            "_model_module_version": "1.2.0",
            "_model_name": "LayoutModel",
            "_view_count": null,
            "_view_module": "@jupyter-widgets/base",
            "_view_module_version": "1.2.0",
            "_view_name": "LayoutView",
            "align_content": null,
            "align_items": null,
            "align_self": null,
            "border": null,
            "bottom": null,
            "display": null,
            "flex": null,
            "flex_flow": null,
            "grid_area": null,
            "grid_auto_columns": null,
            "grid_auto_flow": null,
            "grid_auto_rows": null,
            "grid_column": null,
            "grid_gap": null,
            "grid_row": null,
            "grid_template_areas": null,
            "grid_template_columns": null,
            "grid_template_rows": null,
            "height": null,
            "justify_content": null,
            "justify_items": null,
            "left": null,
            "margin": null,
            "max_height": null,
            "max_width": null,
            "min_height": null,
            "min_width": null,
            "object_fit": null,
            "object_position": null,
            "order": null,
            "overflow": null,
            "overflow_x": null,
            "overflow_y": null,
            "padding": null,
            "right": null,
            "top": null,
            "visibility": null,
            "width": null
          }
        },
        "3538606d055f4d389a5caeaab67570fe": {
          "model_module": "@jupyter-widgets/base",
          "model_name": "LayoutModel",
          "model_module_version": "1.2.0",
          "state": {
            "_model_module": "@jupyter-widgets/base",
            "_model_module_version": "1.2.0",
            "_model_name": "LayoutModel",
            "_view_count": null,
            "_view_module": "@jupyter-widgets/base",
            "_view_module_version": "1.2.0",
            "_view_name": "LayoutView",
            "align_content": null,
            "align_items": null,
            "align_self": null,
            "border": null,
            "bottom": null,
            "display": null,
            "flex": null,
            "flex_flow": null,
            "grid_area": null,
            "grid_auto_columns": null,
            "grid_auto_flow": null,
            "grid_auto_rows": null,
            "grid_column": null,
            "grid_gap": null,
            "grid_row": null,
            "grid_template_areas": null,
            "grid_template_columns": null,
            "grid_template_rows": null,
            "height": null,
            "justify_content": null,
            "justify_items": null,
            "left": null,
            "margin": null,
            "max_height": null,
            "max_width": null,
            "min_height": null,
            "min_width": null,
            "object_fit": null,
            "object_position": null,
            "order": null,
            "overflow": null,
            "overflow_x": null,
            "overflow_y": null,
            "padding": null,
            "right": null,
            "top": null,
            "visibility": null,
            "width": null
          }
        },
        "9be7949e02a14407be9229b6eb295c2e": {
          "model_module": "@jupyter-widgets/controls",
          "model_name": "DescriptionStyleModel",
          "model_module_version": "1.5.0",
          "state": {
            "_model_module": "@jupyter-widgets/controls",
            "_model_module_version": "1.5.0",
            "_model_name": "DescriptionStyleModel",
            "_view_count": null,
            "_view_module": "@jupyter-widgets/base",
            "_view_module_version": "1.2.0",
            "_view_name": "StyleView",
            "description_width": ""
          }
        },
        "da031cc7a69341dda3cd7eb41d01b687": {
          "model_module": "@jupyter-widgets/base",
          "model_name": "LayoutModel",
          "model_module_version": "1.2.0",
          "state": {
            "_model_module": "@jupyter-widgets/base",
            "_model_module_version": "1.2.0",
            "_model_name": "LayoutModel",
            "_view_count": null,
            "_view_module": "@jupyter-widgets/base",
            "_view_module_version": "1.2.0",
            "_view_name": "LayoutView",
            "align_content": null,
            "align_items": null,
            "align_self": null,
            "border": null,
            "bottom": null,
            "display": null,
            "flex": null,
            "flex_flow": null,
            "grid_area": null,
            "grid_auto_columns": null,
            "grid_auto_flow": null,
            "grid_auto_rows": null,
            "grid_column": null,
            "grid_gap": null,
            "grid_row": null,
            "grid_template_areas": null,
            "grid_template_columns": null,
            "grid_template_rows": null,
            "height": null,
            "justify_content": null,
            "justify_items": null,
            "left": null,
            "margin": null,
            "max_height": null,
            "max_width": null,
            "min_height": null,
            "min_width": null,
            "object_fit": null,
            "object_position": null,
            "order": null,
            "overflow": null,
            "overflow_x": null,
            "overflow_y": null,
            "padding": null,
            "right": null,
            "top": null,
            "visibility": null,
            "width": null
          }
        },
        "d34e8e6dfc854ababb393ad4fdc475d8": {
          "model_module": "@jupyter-widgets/controls",
          "model_name": "ProgressStyleModel",
          "model_module_version": "1.5.0",
          "state": {
            "_model_module": "@jupyter-widgets/controls",
            "_model_module_version": "1.5.0",
            "_model_name": "ProgressStyleModel",
            "_view_count": null,
            "_view_module": "@jupyter-widgets/base",
            "_view_module_version": "1.2.0",
            "_view_name": "StyleView",
            "bar_color": null,
            "description_width": ""
          }
        },
        "e319d89ab6b84ce1a9b5391fa1a91790": {
          "model_module": "@jupyter-widgets/base",
          "model_name": "LayoutModel",
          "model_module_version": "1.2.0",
          "state": {
            "_model_module": "@jupyter-widgets/base",
            "_model_module_version": "1.2.0",
            "_model_name": "LayoutModel",
            "_view_count": null,
            "_view_module": "@jupyter-widgets/base",
            "_view_module_version": "1.2.0",
            "_view_name": "LayoutView",
            "align_content": null,
            "align_items": null,
            "align_self": null,
            "border": null,
            "bottom": null,
            "display": null,
            "flex": null,
            "flex_flow": null,
            "grid_area": null,
            "grid_auto_columns": null,
            "grid_auto_flow": null,
            "grid_auto_rows": null,
            "grid_column": null,
            "grid_gap": null,
            "grid_row": null,
            "grid_template_areas": null,
            "grid_template_columns": null,
            "grid_template_rows": null,
            "height": null,
            "justify_content": null,
            "justify_items": null,
            "left": null,
            "margin": null,
            "max_height": null,
            "max_width": null,
            "min_height": null,
            "min_width": null,
            "object_fit": null,
            "object_position": null,
            "order": null,
            "overflow": null,
            "overflow_x": null,
            "overflow_y": null,
            "padding": null,
            "right": null,
            "top": null,
            "visibility": null,
            "width": null
          }
        },
        "df079efc856b4a0b9c2190c2b877a74f": {
          "model_module": "@jupyter-widgets/controls",
          "model_name": "DescriptionStyleModel",
          "model_module_version": "1.5.0",
          "state": {
            "_model_module": "@jupyter-widgets/controls",
            "_model_module_version": "1.5.0",
            "_model_name": "DescriptionStyleModel",
            "_view_count": null,
            "_view_module": "@jupyter-widgets/base",
            "_view_module_version": "1.2.0",
            "_view_name": "StyleView",
            "description_width": ""
          }
        },
        "45a2c6a586e34acdb550dac3e5efb0ab": {
          "model_module": "@jupyter-widgets/controls",
          "model_name": "HBoxModel",
          "model_module_version": "1.5.0",
          "state": {
            "_dom_classes": [],
            "_model_module": "@jupyter-widgets/controls",
            "_model_module_version": "1.5.0",
            "_model_name": "HBoxModel",
            "_view_count": null,
            "_view_module": "@jupyter-widgets/controls",
            "_view_module_version": "1.5.0",
            "_view_name": "HBoxView",
            "box_style": "",
            "children": [
              "IPY_MODEL_296692ba118b49958209e0515f8396ac",
              "IPY_MODEL_efe06bb7b95c4b5c8bb4a273a457b93b",
              "IPY_MODEL_108cd12706c94a6b8863dfa192adcb14"
            ],
            "layout": "IPY_MODEL_7e53fd99ef4d44d093f4b874174287bd"
          }
        },
        "296692ba118b49958209e0515f8396ac": {
          "model_module": "@jupyter-widgets/controls",
          "model_name": "HTMLModel",
          "model_module_version": "1.5.0",
          "state": {
            "_dom_classes": [],
            "_model_module": "@jupyter-widgets/controls",
            "_model_module_version": "1.5.0",
            "_model_name": "HTMLModel",
            "_view_count": null,
            "_view_module": "@jupyter-widgets/controls",
            "_view_module_version": "1.5.0",
            "_view_name": "HTMLView",
            "description": "",
            "description_tooltip": null,
            "layout": "IPY_MODEL_ad8aab08f49149c3845b85c1621a1077",
            "placeholder": "​",
            "style": "IPY_MODEL_54b16a0115a342aab1a3425c6d339fc3",
            "value": "Downloading (…)lve/main/config.json: 100%"
          }
        },
        "efe06bb7b95c4b5c8bb4a273a457b93b": {
          "model_module": "@jupyter-widgets/controls",
          "model_name": "FloatProgressModel",
          "model_module_version": "1.5.0",
          "state": {
            "_dom_classes": [],
            "_model_module": "@jupyter-widgets/controls",
            "_model_module_version": "1.5.0",
            "_model_name": "FloatProgressModel",
            "_view_count": null,
            "_view_module": "@jupyter-widgets/controls",
            "_view_module_version": "1.5.0",
            "_view_name": "ProgressView",
            "bar_style": "success",
            "description": "",
            "description_tooltip": null,
            "layout": "IPY_MODEL_607a5c942d114f0fb9493a1b33fd6194",
            "max": 570,
            "min": 0,
            "orientation": "horizontal",
            "style": "IPY_MODEL_dcdef49bc2fd42ac8761f0fcfb1ac2ef",
            "value": 570
          }
        },
        "108cd12706c94a6b8863dfa192adcb14": {
          "model_module": "@jupyter-widgets/controls",
          "model_name": "HTMLModel",
          "model_module_version": "1.5.0",
          "state": {
            "_dom_classes": [],
            "_model_module": "@jupyter-widgets/controls",
            "_model_module_version": "1.5.0",
            "_model_name": "HTMLModel",
            "_view_count": null,
            "_view_module": "@jupyter-widgets/controls",
            "_view_module_version": "1.5.0",
            "_view_name": "HTMLView",
            "description": "",
            "description_tooltip": null,
            "layout": "IPY_MODEL_870d8a3110e64ce6905cab3ed5a1cf03",
            "placeholder": "​",
            "style": "IPY_MODEL_8a167ad2475a4117baa2e8d3aba9d1b9",
            "value": " 570/570 [00:00&lt;00:00, 30.2kB/s]"
          }
        },
        "7e53fd99ef4d44d093f4b874174287bd": {
          "model_module": "@jupyter-widgets/base",
          "model_name": "LayoutModel",
          "model_module_version": "1.2.0",
          "state": {
            "_model_module": "@jupyter-widgets/base",
            "_model_module_version": "1.2.0",
            "_model_name": "LayoutModel",
            "_view_count": null,
            "_view_module": "@jupyter-widgets/base",
            "_view_module_version": "1.2.0",
            "_view_name": "LayoutView",
            "align_content": null,
            "align_items": null,
            "align_self": null,
            "border": null,
            "bottom": null,
            "display": null,
            "flex": null,
            "flex_flow": null,
            "grid_area": null,
            "grid_auto_columns": null,
            "grid_auto_flow": null,
            "grid_auto_rows": null,
            "grid_column": null,
            "grid_gap": null,
            "grid_row": null,
            "grid_template_areas": null,
            "grid_template_columns": null,
            "grid_template_rows": null,
            "height": null,
            "justify_content": null,
            "justify_items": null,
            "left": null,
            "margin": null,
            "max_height": null,
            "max_width": null,
            "min_height": null,
            "min_width": null,
            "object_fit": null,
            "object_position": null,
            "order": null,
            "overflow": null,
            "overflow_x": null,
            "overflow_y": null,
            "padding": null,
            "right": null,
            "top": null,
            "visibility": null,
            "width": null
          }
        },
        "ad8aab08f49149c3845b85c1621a1077": {
          "model_module": "@jupyter-widgets/base",
          "model_name": "LayoutModel",
          "model_module_version": "1.2.0",
          "state": {
            "_model_module": "@jupyter-widgets/base",
            "_model_module_version": "1.2.0",
            "_model_name": "LayoutModel",
            "_view_count": null,
            "_view_module": "@jupyter-widgets/base",
            "_view_module_version": "1.2.0",
            "_view_name": "LayoutView",
            "align_content": null,
            "align_items": null,
            "align_self": null,
            "border": null,
            "bottom": null,
            "display": null,
            "flex": null,
            "flex_flow": null,
            "grid_area": null,
            "grid_auto_columns": null,
            "grid_auto_flow": null,
            "grid_auto_rows": null,
            "grid_column": null,
            "grid_gap": null,
            "grid_row": null,
            "grid_template_areas": null,
            "grid_template_columns": null,
            "grid_template_rows": null,
            "height": null,
            "justify_content": null,
            "justify_items": null,
            "left": null,
            "margin": null,
            "max_height": null,
            "max_width": null,
            "min_height": null,
            "min_width": null,
            "object_fit": null,
            "object_position": null,
            "order": null,
            "overflow": null,
            "overflow_x": null,
            "overflow_y": null,
            "padding": null,
            "right": null,
            "top": null,
            "visibility": null,
            "width": null
          }
        },
        "54b16a0115a342aab1a3425c6d339fc3": {
          "model_module": "@jupyter-widgets/controls",
          "model_name": "DescriptionStyleModel",
          "model_module_version": "1.5.0",
          "state": {
            "_model_module": "@jupyter-widgets/controls",
            "_model_module_version": "1.5.0",
            "_model_name": "DescriptionStyleModel",
            "_view_count": null,
            "_view_module": "@jupyter-widgets/base",
            "_view_module_version": "1.2.0",
            "_view_name": "StyleView",
            "description_width": ""
          }
        },
        "607a5c942d114f0fb9493a1b33fd6194": {
          "model_module": "@jupyter-widgets/base",
          "model_name": "LayoutModel",
          "model_module_version": "1.2.0",
          "state": {
            "_model_module": "@jupyter-widgets/base",
            "_model_module_version": "1.2.0",
            "_model_name": "LayoutModel",
            "_view_count": null,
            "_view_module": "@jupyter-widgets/base",
            "_view_module_version": "1.2.0",
            "_view_name": "LayoutView",
            "align_content": null,
            "align_items": null,
            "align_self": null,
            "border": null,
            "bottom": null,
            "display": null,
            "flex": null,
            "flex_flow": null,
            "grid_area": null,
            "grid_auto_columns": null,
            "grid_auto_flow": null,
            "grid_auto_rows": null,
            "grid_column": null,
            "grid_gap": null,
            "grid_row": null,
            "grid_template_areas": null,
            "grid_template_columns": null,
            "grid_template_rows": null,
            "height": null,
            "justify_content": null,
            "justify_items": null,
            "left": null,
            "margin": null,
            "max_height": null,
            "max_width": null,
            "min_height": null,
            "min_width": null,
            "object_fit": null,
            "object_position": null,
            "order": null,
            "overflow": null,
            "overflow_x": null,
            "overflow_y": null,
            "padding": null,
            "right": null,
            "top": null,
            "visibility": null,
            "width": null
          }
        },
        "dcdef49bc2fd42ac8761f0fcfb1ac2ef": {
          "model_module": "@jupyter-widgets/controls",
          "model_name": "ProgressStyleModel",
          "model_module_version": "1.5.0",
          "state": {
            "_model_module": "@jupyter-widgets/controls",
            "_model_module_version": "1.5.0",
            "_model_name": "ProgressStyleModel",
            "_view_count": null,
            "_view_module": "@jupyter-widgets/base",
            "_view_module_version": "1.2.0",
            "_view_name": "StyleView",
            "bar_color": null,
            "description_width": ""
          }
        },
        "870d8a3110e64ce6905cab3ed5a1cf03": {
          "model_module": "@jupyter-widgets/base",
          "model_name": "LayoutModel",
          "model_module_version": "1.2.0",
          "state": {
            "_model_module": "@jupyter-widgets/base",
            "_model_module_version": "1.2.0",
            "_model_name": "LayoutModel",
            "_view_count": null,
            "_view_module": "@jupyter-widgets/base",
            "_view_module_version": "1.2.0",
            "_view_name": "LayoutView",
            "align_content": null,
            "align_items": null,
            "align_self": null,
            "border": null,
            "bottom": null,
            "display": null,
            "flex": null,
            "flex_flow": null,
            "grid_area": null,
            "grid_auto_columns": null,
            "grid_auto_flow": null,
            "grid_auto_rows": null,
            "grid_column": null,
            "grid_gap": null,
            "grid_row": null,
            "grid_template_areas": null,
            "grid_template_columns": null,
            "grid_template_rows": null,
            "height": null,
            "justify_content": null,
            "justify_items": null,
            "left": null,
            "margin": null,
            "max_height": null,
            "max_width": null,
            "min_height": null,
            "min_width": null,
            "object_fit": null,
            "object_position": null,
            "order": null,
            "overflow": null,
            "overflow_x": null,
            "overflow_y": null,
            "padding": null,
            "right": null,
            "top": null,
            "visibility": null,
            "width": null
          }
        },
        "8a167ad2475a4117baa2e8d3aba9d1b9": {
          "model_module": "@jupyter-widgets/controls",
          "model_name": "DescriptionStyleModel",
          "model_module_version": "1.5.0",
          "state": {
            "_model_module": "@jupyter-widgets/controls",
            "_model_module_version": "1.5.0",
            "_model_name": "DescriptionStyleModel",
            "_view_count": null,
            "_view_module": "@jupyter-widgets/base",
            "_view_module_version": "1.2.0",
            "_view_name": "StyleView",
            "description_width": ""
          }
        }
      }
    }
  },
  "cells": [
    {
      "cell_type": "markdown",
      "source": [
        "## Co to za taka działka NLP?\n",
        "\n",
        "\n",
        "---\n",
        "\n",
        "Co będzie?\n",
        "- tokeny, reprezentacja słów, podstawy\n",
        "\n",
        "Czego nie będzie?\n",
        "- transformery"
      ],
      "metadata": {
        "id": "KRsWQzyhbOp6"
      }
    },
    {
      "cell_type": "markdown",
      "source": [
        "![Czym jest NLP?](https://7wdata.be/wp-content/uploads/2021/09/DCF_NLP-in-the-Data-Center_ML-DL-Diagram.png)"
      ],
      "metadata": {
        "id": "S-ZTGmDEcJ1s"
      }
    },
    {
      "cell_type": "markdown",
      "source": [
        "## Jakie zadania rozwiązujemy w NLP"
      ],
      "metadata": {
        "id": "2OLX-wRCCbNv"
      }
    },
    {
      "cell_type": "markdown",
      "source": [
        "- Generowanie tekstu (artykuły, response z ChatGPT, etc...) (*Text Generation*)\n",
        "- Streszczenie tekstu (*Text Summarization*)\n",
        "- Identyfikacja części mowy (*POS - part-of-speech- tagging*)\n",
        "- Automatyczne Odpowiadanie na Pytania (*Automatic Question Answering*)\n",
        "- Identyfikacja Encji (Nazwanych) (*(Named) Entity Recognition, (N)ER*)\n",
        "\n",
        "- ...(dużo innego)."
      ],
      "metadata": {
        "id": "nlh33nQyCbTm"
      }
    },
    {
      "cell_type": "markdown",
      "source": [
        "Temat ważny, bo język naturalny - to coś, czego używamy każdego dnia do komunikacji. Dość prężnie rozwinięta działka, ale still IMO plenty of fish in the sea, bo każda firma, generuje dużo tekstu - czy w postaci raportów, dokumentów itp. - które nie zawsze są ustrukturyzowane."
      ],
      "metadata": {
        "id": "GBU8TehfWOSS"
      }
    },
    {
      "cell_type": "markdown",
      "source": [
        "Więc siłą rzeczy pojawiają się pytania jak reprezentować i przetwarzać taki tekst."
      ],
      "metadata": {
        "id": "Bic3WlDOpVtb"
      }
    },
    {
      "cell_type": "markdown",
      "source": [
        "A więc... let's dive into it. Żeby modelować tekst, musimy jakoś go reprezentować"
      ],
      "metadata": {
        "id": "kXrVnTm8TRAb"
      }
    },
    {
      "cell_type": "markdown",
      "source": [
        "---\n",
        "\n",
        "### Notatki\n",
        "\n",
        "Łatwo parsować ustrukturyzowany tekst, nie potrzeba do tego sieci neuronowych\n",
        "\n",
        "Dopiero jeśli to nam nie wystarcza to wtedy NN. Oprócz odpowiadania na pytania, można wykorzystywać to do streszczania tekstu.\n",
        "\n",
        "encje -> klasyfikacja grup słów, które mają określone znaczenie, np opis puszczy będzie o puszczy."
      ],
      "metadata": {
        "id": "bGlRsKYXHcnM"
      }
    },
    {
      "cell_type": "markdown",
      "source": [
        "## Libki"
      ],
      "metadata": {
        "id": "54Q7azasmBeM"
      }
    },
    {
      "cell_type": "code",
      "source": [
        "from sklearn.feature_extraction.text import CountVectorizer, TfidfVectorizer\n",
        "from sklearn.datasets import fetch_20newsgroups\n",
        "\n",
        "import nltk # podstawowa libka do nlp\n",
        "\n",
        "nltk.download('stopwords')\n",
        "nltk.download(\"wordnet\")\n",
        "nltk.download(\"omw-1.4\")\n",
        "nltk.download('punkt')\n",
        "\n",
        "from nltk.util import ngrams\n",
        "from nltk.corpus import stopwords\n",
        "\n",
        "from nltk.stem import WordNetLemmatizer\n",
        "from nltk.stem.porter import PorterStemmer\n",
        "\n",
        "from nltk.tokenize import word_tokenize, sent_tokenize\n",
        "\n",
        "import re\n",
        "\n",
        "import spacy\n",
        "\n",
        "import numpy as np\n",
        "import matplotlib.pyplot as plt"
      ],
      "metadata": {
        "colab": {
          "base_uri": "https://localhost:8080/"
        },
        "id": "V6bvW9MAmD3l",
        "outputId": "79df1b50-fbb6-4b8a-bb7e-fa3d2abeecac"
      },
      "execution_count": null,
      "outputs": [
        {
          "output_type": "stream",
          "name": "stderr",
          "text": [
            "[nltk_data] Downloading package stopwords to /root/nltk_data...\n",
            "[nltk_data]   Unzipping corpora/stopwords.zip.\n",
            "[nltk_data] Downloading package wordnet to /root/nltk_data...\n",
            "[nltk_data] Downloading package omw-1.4 to /root/nltk_data...\n",
            "[nltk_data] Downloading package punkt to /root/nltk_data...\n",
            "[nltk_data]   Unzipping tokenizers/punkt.zip.\n"
          ]
        }
      ]
    },
    {
      "cell_type": "code",
      "source": [
        "import locale\n",
        "locale.getpreferredencoding"
      ],
      "metadata": {
        "colab": {
          "base_uri": "https://localhost:8080/"
        },
        "id": "xbmMOr1o5rSA",
        "outputId": "a2baf1f6-daba-44a8-b610-614095a5ed4e"
      },
      "execution_count": null,
      "outputs": [
        {
          "output_type": "execute_result",
          "data": {
            "text/plain": [
              "<function locale.getpreferredencoding(do_setlocale=True)>"
            ]
          },
          "metadata": {},
          "execution_count": 2
        }
      ]
    },
    {
      "cell_type": "code",
      "source": [
        "import locale\n",
        "\n",
        "\n",
        "prev = locale.getpreferredencoding\n",
        "locale.getpreferredencoding = lambda: \"UTF-8\"\n",
        "\n",
        "\n",
        "!python -m spacy download en_core_web_sm\n",
        "\n",
        "locale.getpreferredencoding = prev"
      ],
      "metadata": {
        "colab": {
          "base_uri": "https://localhost:8080/"
        },
        "id": "F2R34H8enADX",
        "outputId": "eb3e5be4-5c06-4ba4-8a88-63b52a196f66"
      },
      "execution_count": null,
      "outputs": [
        {
          "output_type": "stream",
          "name": "stdout",
          "text": [
            "2023-04-01 08:23:52.462049: W tensorflow/compiler/tf2tensorrt/utils/py_utils.cc:38] TF-TRT Warning: Could not find TensorRT\n",
            "Looking in indexes: https://pypi.org/simple, https://us-python.pkg.dev/colab-wheels/public/simple/\n",
            "Collecting en-core-web-sm==3.5.0\n",
            "  Downloading https://github.com/explosion/spacy-models/releases/download/en_core_web_sm-3.5.0/en_core_web_sm-3.5.0-py3-none-any.whl (12.8 MB)\n",
            "\u001b[2K     \u001b[90m━━━━━━━━━━━━━━━━━━━━━━━━━━━━━━━━━━━━━━━━\u001b[0m \u001b[32m12.8/12.8 MB\u001b[0m \u001b[31m46.1 MB/s\u001b[0m eta \u001b[36m0:00:00\u001b[0m\n",
            "\u001b[?25hRequirement already satisfied: spacy<3.6.0,>=3.5.0 in /usr/local/lib/python3.9/dist-packages (from en-core-web-sm==3.5.0) (3.5.1)\n",
            "Requirement already satisfied: jinja2 in /usr/local/lib/python3.9/dist-packages (from spacy<3.6.0,>=3.5.0->en-core-web-sm==3.5.0) (3.1.2)\n",
            "Requirement already satisfied: preshed<3.1.0,>=3.0.2 in /usr/local/lib/python3.9/dist-packages (from spacy<3.6.0,>=3.5.0->en-core-web-sm==3.5.0) (3.0.8)\n",
            "Requirement already satisfied: packaging>=20.0 in /usr/local/lib/python3.9/dist-packages (from spacy<3.6.0,>=3.5.0->en-core-web-sm==3.5.0) (23.0)\n",
            "Requirement already satisfied: numpy>=1.15.0 in /usr/local/lib/python3.9/dist-packages (from spacy<3.6.0,>=3.5.0->en-core-web-sm==3.5.0) (1.22.4)\n",
            "Requirement already satisfied: cymem<2.1.0,>=2.0.2 in /usr/local/lib/python3.9/dist-packages (from spacy<3.6.0,>=3.5.0->en-core-web-sm==3.5.0) (2.0.7)\n",
            "Requirement already satisfied: pydantic!=1.8,!=1.8.1,<1.11.0,>=1.7.4 in /usr/local/lib/python3.9/dist-packages (from spacy<3.6.0,>=3.5.0->en-core-web-sm==3.5.0) (1.10.7)\n",
            "Requirement already satisfied: spacy-legacy<3.1.0,>=3.0.11 in /usr/local/lib/python3.9/dist-packages (from spacy<3.6.0,>=3.5.0->en-core-web-sm==3.5.0) (3.0.12)\n",
            "Requirement already satisfied: murmurhash<1.1.0,>=0.28.0 in /usr/local/lib/python3.9/dist-packages (from spacy<3.6.0,>=3.5.0->en-core-web-sm==3.5.0) (1.0.9)\n",
            "Requirement already satisfied: catalogue<2.1.0,>=2.0.6 in /usr/local/lib/python3.9/dist-packages (from spacy<3.6.0,>=3.5.0->en-core-web-sm==3.5.0) (2.0.8)\n",
            "Requirement already satisfied: smart-open<7.0.0,>=5.2.1 in /usr/local/lib/python3.9/dist-packages (from spacy<3.6.0,>=3.5.0->en-core-web-sm==3.5.0) (6.3.0)\n",
            "Requirement already satisfied: tqdm<5.0.0,>=4.38.0 in /usr/local/lib/python3.9/dist-packages (from spacy<3.6.0,>=3.5.0->en-core-web-sm==3.5.0) (4.65.0)\n",
            "Requirement already satisfied: spacy-loggers<2.0.0,>=1.0.0 in /usr/local/lib/python3.9/dist-packages (from spacy<3.6.0,>=3.5.0->en-core-web-sm==3.5.0) (1.0.4)\n",
            "Requirement already satisfied: wasabi<1.2.0,>=0.9.1 in /usr/local/lib/python3.9/dist-packages (from spacy<3.6.0,>=3.5.0->en-core-web-sm==3.5.0) (1.1.1)\n",
            "Requirement already satisfied: pathy>=0.10.0 in /usr/local/lib/python3.9/dist-packages (from spacy<3.6.0,>=3.5.0->en-core-web-sm==3.5.0) (0.10.1)\n",
            "Requirement already satisfied: thinc<8.2.0,>=8.1.8 in /usr/local/lib/python3.9/dist-packages (from spacy<3.6.0,>=3.5.0->en-core-web-sm==3.5.0) (8.1.9)\n",
            "Requirement already satisfied: typer<0.8.0,>=0.3.0 in /usr/local/lib/python3.9/dist-packages (from spacy<3.6.0,>=3.5.0->en-core-web-sm==3.5.0) (0.7.0)\n",
            "Requirement already satisfied: langcodes<4.0.0,>=3.2.0 in /usr/local/lib/python3.9/dist-packages (from spacy<3.6.0,>=3.5.0->en-core-web-sm==3.5.0) (3.3.0)\n",
            "Requirement already satisfied: srsly<3.0.0,>=2.4.3 in /usr/local/lib/python3.9/dist-packages (from spacy<3.6.0,>=3.5.0->en-core-web-sm==3.5.0) (2.4.6)\n",
            "Requirement already satisfied: setuptools in /usr/local/lib/python3.9/dist-packages (from spacy<3.6.0,>=3.5.0->en-core-web-sm==3.5.0) (67.6.1)\n",
            "Requirement already satisfied: requests<3.0.0,>=2.13.0 in /usr/local/lib/python3.9/dist-packages (from spacy<3.6.0,>=3.5.0->en-core-web-sm==3.5.0) (2.27.1)\n",
            "Requirement already satisfied: typing-extensions>=4.2.0 in /usr/local/lib/python3.9/dist-packages (from pydantic!=1.8,!=1.8.1,<1.11.0,>=1.7.4->spacy<3.6.0,>=3.5.0->en-core-web-sm==3.5.0) (4.5.0)\n",
            "Requirement already satisfied: idna<4,>=2.5 in /usr/local/lib/python3.9/dist-packages (from requests<3.0.0,>=2.13.0->spacy<3.6.0,>=3.5.0->en-core-web-sm==3.5.0) (3.4)\n",
            "Requirement already satisfied: urllib3<1.27,>=1.21.1 in /usr/local/lib/python3.9/dist-packages (from requests<3.0.0,>=2.13.0->spacy<3.6.0,>=3.5.0->en-core-web-sm==3.5.0) (1.26.15)\n",
            "Requirement already satisfied: charset-normalizer~=2.0.0 in /usr/local/lib/python3.9/dist-packages (from requests<3.0.0,>=2.13.0->spacy<3.6.0,>=3.5.0->en-core-web-sm==3.5.0) (2.0.12)\n",
            "Requirement already satisfied: certifi>=2017.4.17 in /usr/local/lib/python3.9/dist-packages (from requests<3.0.0,>=2.13.0->spacy<3.6.0,>=3.5.0->en-core-web-sm==3.5.0) (2022.12.7)\n",
            "Requirement already satisfied: confection<1.0.0,>=0.0.1 in /usr/local/lib/python3.9/dist-packages (from thinc<8.2.0,>=8.1.8->spacy<3.6.0,>=3.5.0->en-core-web-sm==3.5.0) (0.0.4)\n",
            "Requirement already satisfied: blis<0.8.0,>=0.7.8 in /usr/local/lib/python3.9/dist-packages (from thinc<8.2.0,>=8.1.8->spacy<3.6.0,>=3.5.0->en-core-web-sm==3.5.0) (0.7.9)\n",
            "Requirement already satisfied: click<9.0.0,>=7.1.1 in /usr/local/lib/python3.9/dist-packages (from typer<0.8.0,>=0.3.0->spacy<3.6.0,>=3.5.0->en-core-web-sm==3.5.0) (8.1.3)\n",
            "Requirement already satisfied: MarkupSafe>=2.0 in /usr/local/lib/python3.9/dist-packages (from jinja2->spacy<3.6.0,>=3.5.0->en-core-web-sm==3.5.0) (2.1.2)\n",
            "\u001b[38;5;2m✔ Download and installation successful\u001b[0m\n",
            "You can now load the package via spacy.load('en_core_web_sm')\n"
          ]
        }
      ]
    },
    {
      "cell_type": "code",
      "source": [
        "prev"
      ],
      "metadata": {
        "colab": {
          "base_uri": "https://localhost:8080/"
        },
        "id": "3SBgSYj3raQm",
        "outputId": "8f706001-aec4-4b9c-d1af-ff120f0d993e"
      },
      "execution_count": null,
      "outputs": [
        {
          "output_type": "execute_result",
          "data": {
            "text/plain": [
              "<function locale.getpreferredencoding(do_setlocale=True)>"
            ]
          },
          "metadata": {},
          "execution_count": 4
        }
      ]
    },
    {
      "cell_type": "markdown",
      "source": [
        "## Jak reprezentować tekst"
      ],
      "metadata": {
        "id": "P5_ttQ4lTZZh"
      }
    },
    {
      "cell_type": "markdown",
      "source": [
        "### OneHotEncoding"
      ],
      "metadata": {
        "id": "DsWziWakTw9G"
      }
    },
    {
      "cell_type": "markdown",
      "source": [
        "Najprostszy sposób na reprezentację tekstu.\n",
        "Jak to robimy:\n",
        "1. Tworzymy słownik ze słowami zawierającymi się w naszym zbiorze $$V=(word_1, word_2, ..., word_n)$$\n",
        "\n",
        "2. Reprezentujemy tekst jako wektory $$vect = (a_1, a_2, ..., a_{|V|})$$, gdzie \n",
        "\n",
        "$$a_i = \\left\\{\\begin{array}{rcl}\n",
        "0 \\space gdy \\space słowo_i \\notin Tekst\\\\\n",
        "1 \\space gdy \\space słowo_i \\in Tekst\n",
        "\\end{array} \\right.$$\n",
        "\n",
        "\n",
        "V - słownik, vect - reprezentacja"
      ],
      "metadata": {
        "id": "b1bXVf8LaVeW"
      }
    },
    {
      "cell_type": "code",
      "source": [
        "def create_vocab(text):\n",
        "    words = text.split()\n",
        "    vocab = list(set(words))\n",
        "    return vocab\n",
        "\n",
        "\n",
        "def encode_text(text, vocab):\n",
        "    text_words = set(text.split())\n",
        "    return [word in text_words for word in vocab]"
      ],
      "metadata": {
        "id": "jVJdrcBoV8eZ"
      },
      "execution_count": null,
      "outputs": []
    },
    {
      "cell_type": "code",
      "source": [
        "text = \"Ted jest trenerem\"\n",
        "text2 = \"Leo nie jest trenerem\"\n",
        "\n",
        "vocab = create_vocab(text)\n",
        "encode_text(text2, vocab), vocab"
      ],
      "metadata": {
        "colab": {
          "base_uri": "https://localhost:8080/"
        },
        "id": "8znh7UOjV-n7",
        "outputId": "842da648-e787-4f66-b372-a01a9ecb8a80"
      },
      "execution_count": null,
      "outputs": [
        {
          "output_type": "execute_result",
          "data": {
            "text/plain": [
              "([True, False, True], ['trenerem', 'Ted', 'jest'])"
            ]
          },
          "metadata": {},
          "execution_count": 3
        }
      ]
    },
    {
      "cell_type": "markdown",
      "source": [
        "### Bag of Words"
      ],
      "metadata": {
        "id": "2SLEJhAmV-MI"
      }
    },
    {
      "cell_type": "markdown",
      "source": [
        "Wadą naszego porzedniego rozwiązania jest to, że tylko sprawdza czy słowo wystąpiło, dlatego teraz dodatkowo będziemy zliczali liczbę wystąpień słów."
      ],
      "metadata": {
        "id": "_2o-5Fo3TZta"
      }
    },
    {
      "cell_type": "markdown",
      "source": [
        "1. Ponownie tworzymy słownik ze słowani w zbiorze $$ V = (słowo_1, słowo_2, ... , słowo_n) $$\n",
        "\n",
        "2. Reprezentujemy tekst na podstawie wektora wystąpień słów:\n",
        "$$ vect = (a_1, a_2, ..., a_{|V|})$$\n",
        "$$ a_i - liczba \\space wystąpień \\space słowa_i \\space w \\space tekście $$\n",
        "\n",
        "again, V - słownik, vect - reprezentacja\n",
        "\n",
        "---\n",
        "\n",
        "wektory z liczebnością mają usprawnić one-hot żeby wektory były krótsze. Sumowanie wektorów na każde słowo w zdaniu"
      ],
      "metadata": {
        "id": "nKU5-HvYRmjx"
      }
    },
    {
      "cell_type": "code",
      "source": [
        "twenty_train = fetch_20newsgroups(\n",
        "    subset=\"train\", shuffle=True, random_state=42\n",
        ")"
      ],
      "metadata": {
        "id": "tl8r-_mcbOk1"
      },
      "execution_count": null,
      "outputs": []
    },
    {
      "cell_type": "code",
      "source": [
        "vectorizer = CountVectorizer().fit(twenty_train.data)"
      ],
      "metadata": {
        "id": "FIWMOBsSyreh"
      },
      "execution_count": null,
      "outputs": []
    },
    {
      "cell_type": "code",
      "source": [
        "vectorizer.vocabulary_"
      ],
      "metadata": {
        "id": "tk-HF_4Tys0M"
      },
      "execution_count": null,
      "outputs": []
    },
    {
      "cell_type": "code",
      "source": [
        "transformed = vectorizer.transform(twenty_train.data[:1])"
      ],
      "metadata": {
        "id": "I1qd7ASyyxYj"
      },
      "execution_count": null,
      "outputs": []
    },
    {
      "cell_type": "code",
      "source": [
        "transformed # sparse matrix bo bedzie wiele zer (macierz rzadka) reprezentacja jakie slowa wystapily w danym paragrafie. \n",
        "            # Wrzucamy liczbe wystapien w calym treningowym zbiorze na pozycji danego słowa z paragrafu"
      ],
      "metadata": {
        "colab": {
          "base_uri": "https://localhost:8080/"
        },
        "id": "AfF5Es3BS16v",
        "outputId": "522754a7-53ed-43c2-ba68-a4ec1ddecfeb"
      },
      "execution_count": null,
      "outputs": [
        {
          "output_type": "execute_result",
          "data": {
            "text/plain": [
              "<1x130107 sparse matrix of type '<class 'numpy.int64'>'\n",
              "\twith 89 stored elements in Compressed Sparse Row format>"
            ]
          },
          "metadata": {},
          "execution_count": 11
        }
      ]
    },
    {
      "cell_type": "code",
      "source": [
        "twenty_train.data[:1]"
      ],
      "metadata": {
        "colab": {
          "base_uri": "https://localhost:8080/"
        },
        "id": "fhT0v-iUy2Ne",
        "outputId": "9015bb59-8c97-43cf-fdce-784e1a63c060"
      },
      "execution_count": null,
      "outputs": [
        {
          "output_type": "execute_result",
          "data": {
            "text/plain": [
              "[\"From: lerxst@wam.umd.edu (where's my thing)\\nSubject: WHAT car is this!?\\nNntp-Posting-Host: rac3.wam.umd.edu\\nOrganization: University of Maryland, College Park\\nLines: 15\\n\\n I was wondering if anyone out there could enlighten me on this car I saw\\nthe other day. It was a 2-door sports car, looked to be from the late 60s/\\nearly 70s. It was called a Bricklin. The doors were really small. In addition,\\nthe front bumper was separate from the rest of the body. This is \\nall I know. If anyone can tellme a model name, engine specs, years\\nof production, where this car is made, history, or whatever info you\\nhave on this funky looking car, please e-mail.\\n\\nThanks,\\n- IL\\n   ---- brought to you by your neighborhood Lerxst ----\\n\\n\\n\\n\\n\"]"
            ]
          },
          "metadata": {},
          "execution_count": 9
        }
      ]
    },
    {
      "cell_type": "markdown",
      "source": [
        "### TF-IDF (Term Frequency - Inverse Document Frequency)"
      ],
      "metadata": {
        "id": "DYcbPpxFpiE7"
      }
    },
    {
      "cell_type": "markdown",
      "source": [
        "Nowa wersja zliczania - faworyzujemy słowa, które występują częściej w pojedyńczym dokumencje, a rzadziej w całym korpusie dokumentów.\n",
        "\n",
        "\n",
        "$$tf(t,d) = \\frac{f_{t,d}}{\\sum_{t'∈d}{f_{t',d}}}$$\n",
        "\n",
        "$$idf(t, D) = log \\frac{N}{\\{d \\in D; t \\in d \\}}$$\n",
        "\n",
        "$$ tfidf(t, d, D) = tf(t, d) * idf(t, D)$$\n",
        "\n",
        "\n",
        "t - słowo, d - dokument, D - korpus dokumentów"
      ],
      "metadata": {
        "id": "235MGWC2adoR"
      }
    },
    {
      "cell_type": "markdown",
      "source": [
        "'Ala ma kota'\n",
        "'Anton nie ma'\n",
        "\n",
        "dla `ma`:\n",
        "  tf = $\\frac{1}{3}$\n",
        "\n",
        "  idf = log N/alpha = log 2/2 = log 1 = 0\n",
        "\n",
        "  N to liczba dokumentow w korpusie \n",
        "  aplha to liczba dokumentow w ktorych wystepuje nasz token\n",
        "\n",
        "  ifidf = 1/3 * 0 = 0\n"
      ],
      "metadata": {
        "id": "HDhYfOr8MBza"
      }
    },
    {
      "cell_type": "code",
      "source": [
        "vectorizer = TfidfVectorizer().fit(twenty_train.data)\n",
        "transformed_data = vectorizer.transform(twenty_train.data)"
      ],
      "metadata": {
        "id": "nR9eOkDQrY8U"
      },
      "execution_count": null,
      "outputs": []
    },
    {
      "cell_type": "code",
      "source": [
        "transformed_data"
      ],
      "metadata": {
        "id": "ir3M0mSppiLu",
        "colab": {
          "base_uri": "https://localhost:8080/"
        },
        "outputId": "941fbb78-7725-4a88-8657-c7a8bcca4d99"
      },
      "execution_count": null,
      "outputs": [
        {
          "output_type": "execute_result",
          "data": {
            "text/plain": [
              "<11314x130107 sparse matrix of type '<class 'numpy.float64'>'\n",
              "\twith 1787565 stored elements in Compressed Sparse Row format>"
            ]
          },
          "metadata": {},
          "execution_count": 13
        }
      ]
    },
    {
      "cell_type": "markdown",
      "source": [
        "### Zadanko"
      ],
      "metadata": {
        "id": "Jd0tsr-jpiSu"
      }
    },
    {
      "cell_type": "markdown",
      "source": [
        "Korzystając z reprezentacji CountVectorizer, TF-IDF nauczyć drzewo losowe dla przewidywania klasy wiadomości"
      ],
      "metadata": {
        "id": "5rT2ydGerod-"
      }
    },
    {
      "cell_type": "code",
      "source": [
        "twenty_test = fetch_20newsgroups(subset=\"test\", shuffle=True, random_state=42)\n",
        "train_text, train_class = twenty_train.data, twenty_train.target\n",
        "test_text, test_class = twenty_test.data, twenty_test.target"
      ],
      "metadata": {
        "id": "1vcaz8hhrok6"
      },
      "execution_count": null,
      "outputs": []
    },
    {
      "cell_type": "code",
      "source": [
        "train_class"
      ],
      "metadata": {
        "colab": {
          "base_uri": "https://localhost:8080/"
        },
        "id": "xH83OhDKN3cU",
        "outputId": "b591141b-907c-4034-9434-cf50dbf36217"
      },
      "execution_count": null,
      "outputs": [
        {
          "output_type": "execute_result",
          "data": {
            "text/plain": [
              "array([7, 4, 4, ..., 3, 1, 8])"
            ]
          },
          "metadata": {},
          "execution_count": 16
        }
      ]
    },
    {
      "cell_type": "code",
      "source": [
        "# Tutaj rozwiązanie\n",
        "from sklearn import tree\n",
        "clf = tree.DecisionTreeClassifier()\n",
        "\n",
        "vectorizer = TfidfVectorizer().fit(train_text)\n",
        "transformed_data = vectorizer.transform(train_text)\n",
        "\n",
        "clf.fit(transformed_data, train_class)\n",
        "\n",
        "prediction = clf.predict(vectorizer.transform(test_text))"
      ],
      "metadata": {
        "id": "sbFwoEjpr680"
      },
      "execution_count": 38,
      "outputs": []
    },
    {
      "cell_type": "code",
      "source": [
        "tmp = prediction == test_class\n",
        "print(tmp.sum() / prediction.shape[0] * 100)\n",
        "\n",
        "#########\n",
        "\n",
        "from sklearn.metrics import accuracy_score  # prostszy sposób oceniania xd\n",
        "acc = accuracy_score(test_class, prediction)\n",
        "\n",
        "print(f\"Accuracy: {acc}\")\n",
        "# dobry baseline na początek żeby mieć co przebijać"
      ],
      "metadata": {
        "colab": {
          "base_uri": "https://localhost:8080/"
        },
        "id": "oX0IZdj9Pyox",
        "outputId": "d6769d53-88ca-4974-ca65-cc8d6de22428"
      },
      "execution_count": 39,
      "outputs": [
        {
          "output_type": "stream",
          "name": "stdout",
          "text": [
            "55.73552841210834\n",
            "Accuracy: 0.5573552841210834\n"
          ]
        }
      ]
    },
    {
      "cell_type": "markdown",
      "source": [
        "### N - gramy"
      ],
      "metadata": {
        "id": "wHQOeDDqUyAz"
      }
    },
    {
      "cell_type": "markdown",
      "source": [
        "Czasem istotną informację mogą zawierać ciągi słów. Modelujemy zdania w postaci N - gramów - ciągów N słów.\n",
        "\n",
        "\n",
        "\n",
        "Przykład:\n",
        "\n",
        "Zdanie: Ala ma kapibarę.\n",
        "\n",
        "2-gram: ['Ala', 'ma'], ['ma', 'kapibarę']"
      ],
      "metadata": {
        "id": "wpFLkM5XUyI_"
      }
    },
    {
      "cell_type": "code",
      "source": [
        "text = \"Lorem ipsum dolor sit amet, consectetur adipiscing elit, sed do eiusmod tempor incididunt ut labore et dolore magna aliqua. Ut enim ad minim veniam, quis nostrud \""
      ],
      "metadata": {
        "id": "cqoWXGa6VgM4"
      },
      "execution_count": 40,
      "outputs": []
    },
    {
      "cell_type": "code",
      "source": [
        "# funckja ngrams wymaga podania na wejście sekwencji\n",
        "list(ngrams(text.split(), 3))"
      ],
      "metadata": {
        "colab": {
          "base_uri": "https://localhost:8080/"
        },
        "id": "NicBnkvfVgV9",
        "outputId": "d398cf96-565a-4671-b47e-e303c0ecb576"
      },
      "execution_count": 41,
      "outputs": [
        {
          "output_type": "execute_result",
          "data": {
            "text/plain": [
              "[('Lorem', 'ipsum', 'dolor'),\n",
              " ('ipsum', 'dolor', 'sit'),\n",
              " ('dolor', 'sit', 'amet,'),\n",
              " ('sit', 'amet,', 'consectetur'),\n",
              " ('amet,', 'consectetur', 'adipiscing'),\n",
              " ('consectetur', 'adipiscing', 'elit,'),\n",
              " ('adipiscing', 'elit,', 'sed'),\n",
              " ('elit,', 'sed', 'do'),\n",
              " ('sed', 'do', 'eiusmod'),\n",
              " ('do', 'eiusmod', 'tempor'),\n",
              " ('eiusmod', 'tempor', 'incididunt'),\n",
              " ('tempor', 'incididunt', 'ut'),\n",
              " ('incididunt', 'ut', 'labore'),\n",
              " ('ut', 'labore', 'et'),\n",
              " ('labore', 'et', 'dolore'),\n",
              " ('et', 'dolore', 'magna'),\n",
              " ('dolore', 'magna', 'aliqua.'),\n",
              " ('magna', 'aliqua.', 'Ut'),\n",
              " ('aliqua.', 'Ut', 'enim'),\n",
              " ('Ut', 'enim', 'ad'),\n",
              " ('enim', 'ad', 'minim'),\n",
              " ('ad', 'minim', 'veniam,'),\n",
              " ('minim', 'veniam,', 'quis'),\n",
              " ('veniam,', 'quis', 'nostrud')]"
            ]
          },
          "metadata": {},
          "execution_count": 41
        }
      ]
    },
    {
      "cell_type": "markdown",
      "source": [
        "Wszystkie wcześniej wymienione sposoby reprezentacji tekstu domyślnie operują na słowach ale mogą operować też na n-gramach"
      ],
      "metadata": {
        "id": "zceLahnSVgc1"
      }
    },
    {
      "cell_type": "code",
      "source": [
        "vectorizer = CountVectorizer(ngram_range=(1, 2)).fit([\"Ala ma psa\"])\n",
        "transformed = vectorizer.transform(\n",
        "    [\"Indra ma psa i ma wiele kotów, które nie lubią psów\"]\n",
        ")"
      ],
      "metadata": {
        "id": "RTWa9XjLWHcG"
      },
      "execution_count": 42,
      "outputs": []
    },
    {
      "cell_type": "code",
      "source": [
        "vectorizer.get_feature_names_out()"
      ],
      "metadata": {
        "colab": {
          "base_uri": "https://localhost:8080/"
        },
        "id": "nedA1sBMWI91",
        "outputId": "5b16495c-1d81-4c92-cd67-26526c85de5d"
      },
      "execution_count": 43,
      "outputs": [
        {
          "output_type": "execute_result",
          "data": {
            "text/plain": [
              "array(['ala', 'ala ma', 'ma', 'ma psa', 'psa'], dtype=object)"
            ]
          },
          "metadata": {},
          "execution_count": 43
        }
      ]
    },
    {
      "cell_type": "code",
      "source": [
        "transformed.toarray()"
      ],
      "metadata": {
        "colab": {
          "base_uri": "https://localhost:8080/"
        },
        "id": "5OxUWRYbWJU_",
        "outputId": "71a53ef8-ac02-4409-9c94-5f2a9e45868c"
      },
      "execution_count": 44,
      "outputs": [
        {
          "output_type": "execute_result",
          "data": {
            "text/plain": [
              "array([[0, 0, 2, 1, 1]])"
            ]
          },
          "metadata": {},
          "execution_count": 44
        }
      ]
    },
    {
      "cell_type": "markdown",
      "source": [
        "Analogicznie jest dla TF-IDF"
      ],
      "metadata": {
        "id": "3vmL0o12Wxd6"
      }
    },
    {
      "cell_type": "markdown",
      "source": [
        "### Back to Zadanko"
      ],
      "metadata": {
        "id": "Dbep837halNE"
      }
    },
    {
      "cell_type": "markdown",
      "source": [
        "Przetestujcie N - gramy do zadania (**IMPORTANT** - Nie przesadźcie z N, bo wam RAM zabije)."
      ],
      "metadata": {
        "id": "fpbeOjWSW0kI"
      }
    },
    {
      "cell_type": "code",
      "source": [
        "twenty_test = fetch_20newsgroups(subset=\"test\", shuffle=True, random_state=42)\n",
        "train_text, train_class = twenty_train.data, twenty_train.target\n",
        "test_text, test_class = twenty_test.data, twenty_test.target"
      ],
      "metadata": {
        "id": "gGzNRyhtW3Yu"
      },
      "execution_count": 45,
      "outputs": []
    },
    {
      "cell_type": "code",
      "source": [
        "# Tutaj rozwiązanie\n",
        "tfidf = TfidfVectorizer(ngram_range=(1, 5)).fit(train_text)\n",
        "transformed_train = tfidf.transform(train_text)\n",
        "transformed_test = tfidf.transform(test_text)"
      ],
      "metadata": {
        "id": "NaA0ko3fXHa2"
      },
      "execution_count": 51,
      "outputs": []
    },
    {
      "cell_type": "code",
      "source": [
        "transformed_train.shape # warto sprawdzać wymiarowość, żeby wiedzieć czego się można spodziewać "
      ],
      "metadata": {
        "colab": {
          "base_uri": "https://localhost:8080/"
        },
        "id": "vc94F-FCVnGr",
        "outputId": "54b7a893-c129-4f76-e2b3-c4d7ea7eab29"
      },
      "execution_count": 52,
      "outputs": [
        {
          "output_type": "execute_result",
          "data": {
            "text/plain": [
              "(11314, 8069416)"
            ]
          },
          "metadata": {},
          "execution_count": 52
        }
      ]
    },
    {
      "cell_type": "code",
      "source": [
        "from sklearn.tree import DecisionTreeClassifier\n",
        "\n",
        "dtree = DecisionTreeClassifier()\n",
        "dtree.fit(transformed_train, train_class)\n",
        "\n",
        "predictions = dtree.predict(transformed_test)"
      ],
      "metadata": {
        "id": "FiE7gmaIUBVE"
      },
      "execution_count": 53,
      "outputs": []
    },
    {
      "cell_type": "code",
      "source": [
        "from sklearn.metrics import accuracy_score\n",
        "acc = accuracy_score(test_class, predictions)\n",
        "\n",
        "print(f\"accuracy: {acc * 100:.6f}\")"
      ],
      "metadata": {
        "colab": {
          "base_uri": "https://localhost:8080/"
        },
        "id": "DsLQmyipUz23",
        "outputId": "8ab2091e-c1d4-46cb-cef0-95513ff18d21"
      },
      "execution_count": 54,
      "outputs": [
        {
          "output_type": "stream",
          "name": "stdout",
          "text": [
            "accuracy: 55.138078\n"
          ]
        }
      ]
    },
    {
      "cell_type": "markdown",
      "source": [
        "### Zmniejszanie słownika"
      ],
      "metadata": {
        "id": "hlOENOvXXMTh"
      }
    },
    {
      "cell_type": "markdown",
      "source": [
        "#### Stop words"
      ],
      "metadata": {
        "id": "n_EvbbW9XSoD"
      }
    },
    {
      "cell_type": "markdown",
      "source": [
        "W każdym języku są takie słowa, które nie niosą żadnej informacji. Chcemy czasem takich slów pozbyć (zmniejszenie wymiaru słownika)"
      ],
      "metadata": {
        "id": "Ln5U_QBRXUc9"
      }
    },
    {
      "cell_type": "markdown",
      "source": [
        "Przykłady:\n",
        "\n",
        "Angielski: \"a\", \"which\", \"who\"\n",
        "\n",
        "Polski: \"i\", \"a\", \"kto\", \"ja\""
      ],
      "metadata": {
        "id": "RVlXQL9eXgL6"
      }
    },
    {
      "cell_type": "code",
      "source": [
        "stops = set(stopwords.words(\"english\")) # usuwanie szumu, bo przyimki itp nie dodają nam informacji"
      ],
      "metadata": {
        "id": "X3G1rzPXX1mN"
      },
      "execution_count": null,
      "outputs": []
    },
    {
      "cell_type": "code",
      "source": [
        "stops"
      ],
      "metadata": {
        "colab": {
          "base_uri": "https://localhost:8080/"
        },
        "id": "GqbxoB9XX5C0",
        "outputId": "d7a6f261-2e78-4eb9-8950-91aef65ae06d"
      },
      "execution_count": null,
      "outputs": [
        {
          "output_type": "execute_result",
          "data": {
            "text/plain": [
              "{'a',\n",
              " 'about',\n",
              " 'above',\n",
              " 'after',\n",
              " 'again',\n",
              " 'against',\n",
              " 'ain',\n",
              " 'all',\n",
              " 'am',\n",
              " 'an',\n",
              " 'and',\n",
              " 'any',\n",
              " 'are',\n",
              " 'aren',\n",
              " \"aren't\",\n",
              " 'as',\n",
              " 'at',\n",
              " 'be',\n",
              " 'because',\n",
              " 'been',\n",
              " 'before',\n",
              " 'being',\n",
              " 'below',\n",
              " 'between',\n",
              " 'both',\n",
              " 'but',\n",
              " 'by',\n",
              " 'can',\n",
              " 'couldn',\n",
              " \"couldn't\",\n",
              " 'd',\n",
              " 'did',\n",
              " 'didn',\n",
              " \"didn't\",\n",
              " 'do',\n",
              " 'does',\n",
              " 'doesn',\n",
              " \"doesn't\",\n",
              " 'doing',\n",
              " 'don',\n",
              " \"don't\",\n",
              " 'down',\n",
              " 'during',\n",
              " 'each',\n",
              " 'few',\n",
              " 'for',\n",
              " 'from',\n",
              " 'further',\n",
              " 'had',\n",
              " 'hadn',\n",
              " \"hadn't\",\n",
              " 'has',\n",
              " 'hasn',\n",
              " \"hasn't\",\n",
              " 'have',\n",
              " 'haven',\n",
              " \"haven't\",\n",
              " 'having',\n",
              " 'he',\n",
              " 'her',\n",
              " 'here',\n",
              " 'hers',\n",
              " 'herself',\n",
              " 'him',\n",
              " 'himself',\n",
              " 'his',\n",
              " 'how',\n",
              " 'i',\n",
              " 'if',\n",
              " 'in',\n",
              " 'into',\n",
              " 'is',\n",
              " 'isn',\n",
              " \"isn't\",\n",
              " 'it',\n",
              " \"it's\",\n",
              " 'its',\n",
              " 'itself',\n",
              " 'just',\n",
              " 'll',\n",
              " 'm',\n",
              " 'ma',\n",
              " 'me',\n",
              " 'mightn',\n",
              " \"mightn't\",\n",
              " 'more',\n",
              " 'most',\n",
              " 'mustn',\n",
              " \"mustn't\",\n",
              " 'my',\n",
              " 'myself',\n",
              " 'needn',\n",
              " \"needn't\",\n",
              " 'no',\n",
              " 'nor',\n",
              " 'not',\n",
              " 'now',\n",
              " 'o',\n",
              " 'of',\n",
              " 'off',\n",
              " 'on',\n",
              " 'once',\n",
              " 'only',\n",
              " 'or',\n",
              " 'other',\n",
              " 'our',\n",
              " 'ours',\n",
              " 'ourselves',\n",
              " 'out',\n",
              " 'over',\n",
              " 'own',\n",
              " 're',\n",
              " 's',\n",
              " 'same',\n",
              " 'shan',\n",
              " \"shan't\",\n",
              " 'she',\n",
              " \"she's\",\n",
              " 'should',\n",
              " \"should've\",\n",
              " 'shouldn',\n",
              " \"shouldn't\",\n",
              " 'so',\n",
              " 'some',\n",
              " 'such',\n",
              " 't',\n",
              " 'than',\n",
              " 'that',\n",
              " \"that'll\",\n",
              " 'the',\n",
              " 'their',\n",
              " 'theirs',\n",
              " 'them',\n",
              " 'themselves',\n",
              " 'then',\n",
              " 'there',\n",
              " 'these',\n",
              " 'they',\n",
              " 'this',\n",
              " 'those',\n",
              " 'through',\n",
              " 'to',\n",
              " 'too',\n",
              " 'under',\n",
              " 'until',\n",
              " 'up',\n",
              " 've',\n",
              " 'very',\n",
              " 'was',\n",
              " 'wasn',\n",
              " \"wasn't\",\n",
              " 'we',\n",
              " 'were',\n",
              " 'weren',\n",
              " \"weren't\",\n",
              " 'what',\n",
              " 'when',\n",
              " 'where',\n",
              " 'which',\n",
              " 'while',\n",
              " 'who',\n",
              " 'whom',\n",
              " 'why',\n",
              " 'will',\n",
              " 'with',\n",
              " 'won',\n",
              " \"won't\",\n",
              " 'wouldn',\n",
              " \"wouldn't\",\n",
              " 'y',\n",
              " 'you',\n",
              " \"you'd\",\n",
              " \"you'll\",\n",
              " \"you're\",\n",
              " \"you've\",\n",
              " 'your',\n",
              " 'yours',\n",
              " 'yourself',\n",
              " 'yourselves'}"
            ]
          },
          "metadata": {},
          "execution_count": 25
        }
      ]
    },
    {
      "cell_type": "markdown",
      "source": [
        "#### Stemming i Lemmatyzacja"
      ],
      "metadata": {
        "id": "dC_fAFWvYGkd"
      }
    },
    {
      "cell_type": "markdown",
      "source": [
        "Czasem nie interesuje nas odmiana słowa, tylko czy samo słowo wystąpiło. \n",
        "\n",
        "Np. chcemy wyszukać niezależnie od odmiany jakiekolwiek wystąpienie słowa. Wtedy dokonujemy **stemmingu** (usunięcia ostatnich liter słówa), lub **lemmatyzacji** (przywrócenia słowa do początkowej formy)"
      ],
      "metadata": {
        "id": "VjAZIAd5YJtl"
      }
    },
    {
      "cell_type": "code",
      "source": [
        "lemmatizer = WordNetLemmatizer()  # skrocenie do bezokolicznika, raczej poprawne\n",
        "stemmer = PorterStemmer()         # najwieksza zgodnosc, moze byc srednie "
      ],
      "metadata": {
        "id": "v7MtmyBsZofG"
      },
      "execution_count": null,
      "outputs": []
    },
    {
      "cell_type": "code",
      "source": [
        "stemmer = PorterStemmer()\n",
        "words = [\n",
        "    \"caresses\",\n",
        "    \"flies\",\n",
        "    \"dies\",\n",
        "    \"mules\",\n",
        "    \"denied\",\n",
        "    \"died\",\n",
        "    \"agreed\",\n",
        "    \"owned\",\n",
        "    \"humbled\",\n",
        "    \"sized\",\n",
        "    \"meeting\",\n",
        "    \"stating\",\n",
        "    \"siezing\",\n",
        "    \"itemization\",\n",
        "    \"sensational\",\n",
        "    \"traditional\",\n",
        "    \"reference\",\n",
        "    \"colonizer\",\n",
        "    \"plotted\",\n",
        "]\n",
        "for word in words:\n",
        "    lemmatized, stemmed = lemmatizer.lemmatize(word), stemmer.stem(word)\n",
        "    print(f\"\\nOG word: {word}\\nLemma: {lemmatized}\\nStemmed:{stemmed}\")"
      ],
      "metadata": {
        "colab": {
          "base_uri": "https://localhost:8080/"
        },
        "id": "EA-_918RZfXP",
        "outputId": "8fb644fc-0e5b-4d61-ad43-c20625b14302"
      },
      "execution_count": null,
      "outputs": [
        {
          "output_type": "stream",
          "name": "stdout",
          "text": [
            "\n",
            "OG word: caresses\n",
            "Lemma: caress\n",
            "Stemmed:caress\n",
            "\n",
            "OG word: flies\n",
            "Lemma: fly\n",
            "Stemmed:fli\n",
            "\n",
            "OG word: dies\n",
            "Lemma: dy\n",
            "Stemmed:die\n",
            "\n",
            "OG word: mules\n",
            "Lemma: mule\n",
            "Stemmed:mule\n",
            "\n",
            "OG word: denied\n",
            "Lemma: denied\n",
            "Stemmed:deni\n",
            "\n",
            "OG word: died\n",
            "Lemma: died\n",
            "Stemmed:die\n",
            "\n",
            "OG word: agreed\n",
            "Lemma: agreed\n",
            "Stemmed:agre\n",
            "\n",
            "OG word: owned\n",
            "Lemma: owned\n",
            "Stemmed:own\n",
            "\n",
            "OG word: humbled\n",
            "Lemma: humbled\n",
            "Stemmed:humbl\n",
            "\n",
            "OG word: sized\n",
            "Lemma: sized\n",
            "Stemmed:size\n",
            "\n",
            "OG word: meeting\n",
            "Lemma: meeting\n",
            "Stemmed:meet\n",
            "\n",
            "OG word: stating\n",
            "Lemma: stating\n",
            "Stemmed:state\n",
            "\n",
            "OG word: siezing\n",
            "Lemma: siezing\n",
            "Stemmed:siez\n",
            "\n",
            "OG word: itemization\n",
            "Lemma: itemization\n",
            "Stemmed:item\n",
            "\n",
            "OG word: sensational\n",
            "Lemma: sensational\n",
            "Stemmed:sensat\n",
            "\n",
            "OG word: traditional\n",
            "Lemma: traditional\n",
            "Stemmed:tradit\n",
            "\n",
            "OG word: reference\n",
            "Lemma: reference\n",
            "Stemmed:refer\n",
            "\n",
            "OG word: colonizer\n",
            "Lemma: colonizer\n",
            "Stemmed:colon\n",
            "\n",
            "OG word: plotted\n",
            "Lemma: plotted\n",
            "Stemmed:plot\n"
          ]
        }
      ]
    },
    {
      "cell_type": "markdown",
      "source": [
        "## Regexes"
      ],
      "metadata": {
        "id": "hTGYhspPbOzP"
      }
    },
    {
      "cell_type": "markdown",
      "source": [
        "Regex czyli regular expressions to narzędzie pozwalające tworzyć wzorce tekstowe, które potem można wykorzystać np. do usuwania konkretnych wzorców z tekstu w celu filtorwania, wyciąganie emaili z tekstu itd.\n",
        "\n"
      ],
      "metadata": {
        "id": "Ac5NsHqIbQ7P"
      }
    },
    {
      "cell_type": "markdown",
      "source": [
        "*jak można do czegoś nie używać ML, to tak zrób*\n"
      ],
      "metadata": {
        "id": "6ay6nDpvZ-AM"
      }
    },
    {
      "cell_type": "code",
      "source": [
        "# Tak się tworzy regexa\n",
        "pattern = re.compile(r\"@gmail.com\")\n",
        "\n",
        "pattern.findall(\"kasjhfgasil email_1@gmail.com jfalfhjas lfhaklfj pw@gmail.com\")"
      ],
      "metadata": {
        "colab": {
          "base_uri": "https://localhost:8080/"
        },
        "id": "MybTxGp_bRjv",
        "outputId": "6d5eff22-98cb-4d2e-aa1a-72b8a515fb1d"
      },
      "execution_count": 55,
      "outputs": [
        {
          "output_type": "execute_result",
          "data": {
            "text/plain": [
              "['@gmail.com', '@gmail.com']"
            ]
          },
          "metadata": {},
          "execution_count": 55
        }
      ]
    },
    {
      "cell_type": "markdown",
      "source": [
        "![regex_cheatsheet](https://camo.githubusercontent.com/5b07dee12415da23202b61c7741ab5eeaebe2842f2527ef4a28ddb0ed2a15216/68747470733a2f2f6d656469612e63686561746f6772617068792e636f6d2f73746f726167652f7468756d622f646176656368696c645f726567756c61722d65787072657373696f6e732e3735302e6a7067)"
      ],
      "metadata": {
        "id": "NF3-1dE6wCUD"
      }
    },
    {
      "cell_type": "markdown",
      "source": [
        "funkcje:\n",
        "\n",
        "- **findall**: znajduje wszystkie wystąpienia wzorca\n",
        "- **search**: zwraca None albo pierwsze wystąpienie wzorca\n",
        "- **split** - rozdziela po wzorcu\n",
        "- **sub** - zastępuje po wzorcu\n"
      ],
      "metadata": {
        "id": "0tmikY3nwTNu"
      }
    },
    {
      "cell_type": "code",
      "source": [
        "pattern = re.compile(r\"[\\w]+@[\\w\\.]+\")\n",
        "\n",
        "text = \"something some_email11234@gmail.com someomeabaobdoaboabo supermail@elkapwedupl.com adad\"\n",
        "pattern.findall(text)"
      ],
      "metadata": {
        "colab": {
          "base_uri": "https://localhost:8080/"
        },
        "id": "1S2_0MR0bmzV",
        "outputId": "77bacbf6-3d78-450e-ab75-d0a5da81728e"
      },
      "execution_count": 57,
      "outputs": [
        {
          "output_type": "execute_result",
          "data": {
            "text/plain": [
              "['some_email11234@gmail.com', 'supermail@elkapwedupl.com']"
            ]
          },
          "metadata": {},
          "execution_count": 57
        }
      ]
    },
    {
      "cell_type": "markdown",
      "source": [
        "### Zadanko"
      ],
      "metadata": {
        "id": "5G2P5_EWa-Zi"
      }
    },
    {
      "cell_type": "markdown",
      "source": [
        "Zadanie: stworzyć regex który wyciąga **numery telefonów komórkowych** z tekstu"
      ],
      "metadata": {
        "id": "wVJJVozTwsj4"
      }
    },
    {
      "cell_type": "code",
      "source": [
        "# Tutaj rozwiązanie\n",
        "pattern = re.compile(r\"\\+48[ -]\\d{3}[ -]\\d{3}[- ]\\d{3}\")\n",
        "to_search = \"asoihfjaos hoasuf oajioah ofijoe pw@edu.pl +48 830 850 103 klajshflakshfjklaj +48-830-391-193 lfhasnoirhj weaoijpoa m +48 579 585 930\"\n",
        "pattern.findall(to_search)"
      ],
      "metadata": {
        "id": "kzF5qz7swxNk",
        "colab": {
          "base_uri": "https://localhost:8080/"
        },
        "outputId": "ba39168b-bd77-49a9-eff6-8a6a874527b2"
      },
      "execution_count": 60,
      "outputs": [
        {
          "output_type": "execute_result",
          "data": {
            "text/plain": [
              "['+48 830 850 103', '+48-830-391-193', '+48 579 585 930']"
            ]
          },
          "metadata": {},
          "execution_count": 60
        }
      ]
    },
    {
      "cell_type": "markdown",
      "source": [
        "### Zastępowanie grup\n",
        "\n",
        "**Grupy**"
      ],
      "metadata": {
        "id": "0GroF2XRxV_Y"
      }
    },
    {
      "cell_type": "code",
      "source": [
        "to_search = \"asoihfjaos hoasuf asbsc@pavw.et oajioah ofijoe pw@edu.pl +48 830 850 103 klajshflakshfjklaj 7830-391-193 lfhasnoirhj weaoijpoa m +375 29 840 91 41\"\n",
        "\n",
        "regex_with_group = r\"(\\w+)@([\\w\\.]+)\"\n",
        "re.findall(regex_with_group, to_search)\n",
        "\n",
        "re.search(regex_with_group, to_search).group(0) # 0 - cały match, 1 - 1 elem, 2 - 2 elem"
      ],
      "metadata": {
        "id": "40HI6b0FxWJx",
        "colab": {
          "base_uri": "https://localhost:8080/",
          "height": 35
        },
        "outputId": "0584ba30-b93f-46be-b019-843821b9ae34"
      },
      "execution_count": 63,
      "outputs": [
        {
          "output_type": "execute_result",
          "data": {
            "text/plain": [
              "'asbsc@pavw.et'"
            ],
            "application/vnd.google.colaboratory.intrinsic+json": {
              "type": "string"
            }
          },
          "metadata": {},
          "execution_count": 63
        }
      ]
    },
    {
      "cell_type": "code",
      "source": [
        "re.sub(regex_with_group, \"\\\\1@uganda.ug\", to_search) # first group and something"
      ],
      "metadata": {
        "colab": {
          "base_uri": "https://localhost:8080/",
          "height": 53
        },
        "id": "miEnJQh3xpca",
        "outputId": "49fe9fc5-a3eb-42f8-c756-b9248de33817"
      },
      "execution_count": null,
      "outputs": [
        {
          "output_type": "execute_result",
          "data": {
            "text/plain": [
              "'asoihfjaos hoasuf asbsc@uganda.ug oajioah ofijoe pw@uganda.ug +48 830 850 103 klajshflakshfjklaj 7830-391-193 lfhasnoirhj weaoijpoa m +375 29 840 91 41'"
            ],
            "application/vnd.google.colaboratory.intrinsic+json": {
              "type": "string"
            }
          },
          "metadata": {},
          "execution_count": 31
        }
      ]
    },
    {
      "cell_type": "code",
      "source": [
        "re.sub(regex_with_group, \"auuuuuu@\\\\2\", to_search) # something and the rest is the second group"
      ],
      "metadata": {
        "colab": {
          "base_uri": "https://localhost:8080/",
          "height": 53
        },
        "id": "I5xN_ssnxs57",
        "outputId": "f086a4a3-a092-4533-d14c-3dd7eab4e1af"
      },
      "execution_count": null,
      "outputs": [
        {
          "output_type": "execute_result",
          "data": {
            "text/plain": [
              "'asoihfjaos hoasuf auuuuuu@pavw.et oajioah ofijoe auuuuuu@edu.pl +48 830 850 103 klajshflakshfjklaj 7830-391-193 lfhasnoirhj weaoijpoa m +375 29 840 91 41'"
            ],
            "application/vnd.google.colaboratory.intrinsic+json": {
              "type": "string"
            }
          },
          "metadata": {},
          "execution_count": 32
        }
      ]
    },
    {
      "cell_type": "code",
      "source": [
        "regex_with_group = r\"(\\w+)@(?:[\\w\\.]+)\"\n",
        "re.findall(regex_with_group, to_search)"
      ],
      "metadata": {
        "colab": {
          "base_uri": "https://localhost:8080/"
        },
        "id": "RtiG8dqRx8-k",
        "outputId": "2ffd16bd-0533-4826-8be1-bd0e2d40469c"
      },
      "execution_count": null,
      "outputs": [
        {
          "output_type": "execute_result",
          "data": {
            "text/plain": [
              "['asbsc', 'pw']"
            ]
          },
          "metadata": {},
          "execution_count": 33
        }
      ]
    },
    {
      "cell_type": "markdown",
      "source": [
        "### Resources for regexes\n",
        "\n",
        "\n"
      ],
      "metadata": {
        "id": "OY7LKi0AbRp-"
      }
    },
    {
      "cell_type": "markdown",
      "source": [
        "- [Generowanie Regexów z tekstu](https://www.autoregex.xyz/)\n",
        "- [Łatwe sprawdzanie regexów](https://regex101.com/)"
      ],
      "metadata": {
        "id": "s99P6f6ubFso"
      }
    },
    {
      "cell_type": "markdown",
      "source": [
        "## Biblioteka spaCy do problemów lingwistycznych"
      ],
      "metadata": {
        "id": "e5dx7fy6WOZQ"
      }
    },
    {
      "cell_type": "markdown",
      "source": [
        "spaCy jest biblioteką zawierającą wiele modeli do problemów lingwistycznych, które teraz sobie krótko omówimy."
      ],
      "metadata": {
        "id": "HtSo56I1WOfe"
      }
    },
    {
      "cell_type": "code",
      "source": [
        "# wczytywanie modelu językowego\n",
        "nlp = spacy.load(\"en_core_web_sm\")\n",
        "doc = nlp(\"Akash has been buyed by byju's in 73,000 Core's\") # tworzy tokeny\n",
        "for token in doc:\n",
        "    print(token.text)\n"
      ],
      "metadata": {
        "colab": {
          "base_uri": "https://localhost:8080/"
        },
        "id": "x8_oZ-cIY3eR",
        "outputId": "5f825436-f79c-4aac-c653-7824f50f5d1a"
      },
      "execution_count": 65,
      "outputs": [
        {
          "output_type": "stream",
          "name": "stdout",
          "text": [
            "Akash\n",
            "has\n",
            "been\n",
            "buyed\n",
            "by\n",
            "byju\n",
            "'s\n",
            "in\n",
            "73,000\n",
            "Core\n",
            "'s\n"
          ]
        }
      ]
    },
    {
      "cell_type": "markdown",
      "source": [
        "### Part-Of_Speech (POS) - tagging"
      ],
      "metadata": {
        "id": "ZMybcM2JY3lJ"
      }
    },
    {
      "cell_type": "markdown",
      "source": [
        "problem ten polega na wyjaśnieniu w jaki sposób dane słowo jest wykorzystane w zdaniu. Ustalone jest 8 części mowy (po ang bo będzie łatwiej):\n",
        "\n",
        "- Noun\n",
        "- Pronoun\n",
        "- Adjective\n",
        "- Verb\n",
        "- Adverb\n",
        "- Preposition\n",
        "- Conjunction\n",
        "- Interjection"
      ],
      "metadata": {
        "id": "qipQ4MgaY3rl"
      }
    },
    {
      "cell_type": "code",
      "source": [
        "doc = nlp(\"I am Anshul ,currently a Computer Science student and a Machine Learning Engineer\")\n",
        "\n",
        "# Iterate over the tokens\n",
        "for token in doc:\n",
        "    # Print the token and its part-of-speech tag\n",
        "    print(token, token.tag_, token.pos_, spacy.explain(token.tag_))"
      ],
      "metadata": {
        "colab": {
          "base_uri": "https://localhost:8080/"
        },
        "id": "6CxXutnqY3xx",
        "outputId": "ff4025fd-7377-4a38-d013-5a06ffbe482f"
      },
      "execution_count": 66,
      "outputs": [
        {
          "output_type": "stream",
          "name": "stdout",
          "text": [
            "I PRP PRON pronoun, personal\n",
            "am VBP AUX verb, non-3rd person singular present\n",
            "Anshul NNP PROPN noun, proper singular\n",
            ", , PUNCT punctuation mark, comma\n",
            "currently RB ADV adverb\n",
            "a DT DET determiner\n",
            "Computer NNP PROPN noun, proper singular\n",
            "Science NNP PROPN noun, proper singular\n",
            "student NN NOUN noun, singular or mass\n",
            "and CC CCONJ conjunction, coordinating\n",
            "a DT DET determiner\n",
            "Machine NNP PROPN noun, proper singular\n",
            "Learning NNP PROPN noun, proper singular\n",
            "Engineer NNP PROPN noun, proper singular\n"
          ]
        }
      ]
    },
    {
      "cell_type": "code",
      "source": [
        "doc = nlp(\"I am Anshul ,currently a Computer Science student and a Machine Learning Enginee\")\n",
        "spacy.displacy.render(doc, style=\"dep\", jupyter=True)"
      ],
      "metadata": {
        "colab": {
          "base_uri": "https://localhost:8080/",
          "height": 528
        },
        "id": "CXWKyhhaY34G",
        "outputId": "e853be43-98dc-416a-b342-ffa82bc54533"
      },
      "execution_count": 67,
      "outputs": [
        {
          "output_type": "display_data",
          "data": {
            "text/plain": [
              "<IPython.core.display.HTML object>"
            ],
            "text/html": [
              "<span class=\"tex2jax_ignore\"><svg xmlns=\"http://www.w3.org/2000/svg\" xmlns:xlink=\"http://www.w3.org/1999/xlink\" xml:lang=\"en\" id=\"43cc76509a734504b70fb26962f4ade7-0\" class=\"displacy\" width=\"2325\" height=\"487.0\" direction=\"ltr\" style=\"max-width: none; height: 487.0px; color: #000000; background: #ffffff; font-family: Arial; direction: ltr\">\n",
              "<text class=\"displacy-token\" fill=\"currentColor\" text-anchor=\"middle\" y=\"397.0\">\n",
              "    <tspan class=\"displacy-word\" fill=\"currentColor\" x=\"50\">I</tspan>\n",
              "    <tspan class=\"displacy-tag\" dy=\"2em\" fill=\"currentColor\" x=\"50\">PRON</tspan>\n",
              "</text>\n",
              "\n",
              "<text class=\"displacy-token\" fill=\"currentColor\" text-anchor=\"middle\" y=\"397.0\">\n",
              "    <tspan class=\"displacy-word\" fill=\"currentColor\" x=\"225\">am</tspan>\n",
              "    <tspan class=\"displacy-tag\" dy=\"2em\" fill=\"currentColor\" x=\"225\">AUX</tspan>\n",
              "</text>\n",
              "\n",
              "<text class=\"displacy-token\" fill=\"currentColor\" text-anchor=\"middle\" y=\"397.0\">\n",
              "    <tspan class=\"displacy-word\" fill=\"currentColor\" x=\"400\">Anshul ,</tspan>\n",
              "    <tspan class=\"displacy-tag\" dy=\"2em\" fill=\"currentColor\" x=\"400\">PROPN</tspan>\n",
              "</text>\n",
              "\n",
              "<text class=\"displacy-token\" fill=\"currentColor\" text-anchor=\"middle\" y=\"397.0\">\n",
              "    <tspan class=\"displacy-word\" fill=\"currentColor\" x=\"575\">currently</tspan>\n",
              "    <tspan class=\"displacy-tag\" dy=\"2em\" fill=\"currentColor\" x=\"575\">ADV</tspan>\n",
              "</text>\n",
              "\n",
              "<text class=\"displacy-token\" fill=\"currentColor\" text-anchor=\"middle\" y=\"397.0\">\n",
              "    <tspan class=\"displacy-word\" fill=\"currentColor\" x=\"750\">a</tspan>\n",
              "    <tspan class=\"displacy-tag\" dy=\"2em\" fill=\"currentColor\" x=\"750\">DET</tspan>\n",
              "</text>\n",
              "\n",
              "<text class=\"displacy-token\" fill=\"currentColor\" text-anchor=\"middle\" y=\"397.0\">\n",
              "    <tspan class=\"displacy-word\" fill=\"currentColor\" x=\"925\">Computer</tspan>\n",
              "    <tspan class=\"displacy-tag\" dy=\"2em\" fill=\"currentColor\" x=\"925\">PROPN</tspan>\n",
              "</text>\n",
              "\n",
              "<text class=\"displacy-token\" fill=\"currentColor\" text-anchor=\"middle\" y=\"397.0\">\n",
              "    <tspan class=\"displacy-word\" fill=\"currentColor\" x=\"1100\">Science</tspan>\n",
              "    <tspan class=\"displacy-tag\" dy=\"2em\" fill=\"currentColor\" x=\"1100\">PROPN</tspan>\n",
              "</text>\n",
              "\n",
              "<text class=\"displacy-token\" fill=\"currentColor\" text-anchor=\"middle\" y=\"397.0\">\n",
              "    <tspan class=\"displacy-word\" fill=\"currentColor\" x=\"1275\">student</tspan>\n",
              "    <tspan class=\"displacy-tag\" dy=\"2em\" fill=\"currentColor\" x=\"1275\">NOUN</tspan>\n",
              "</text>\n",
              "\n",
              "<text class=\"displacy-token\" fill=\"currentColor\" text-anchor=\"middle\" y=\"397.0\">\n",
              "    <tspan class=\"displacy-word\" fill=\"currentColor\" x=\"1450\">and</tspan>\n",
              "    <tspan class=\"displacy-tag\" dy=\"2em\" fill=\"currentColor\" x=\"1450\">CCONJ</tspan>\n",
              "</text>\n",
              "\n",
              "<text class=\"displacy-token\" fill=\"currentColor\" text-anchor=\"middle\" y=\"397.0\">\n",
              "    <tspan class=\"displacy-word\" fill=\"currentColor\" x=\"1625\">a</tspan>\n",
              "    <tspan class=\"displacy-tag\" dy=\"2em\" fill=\"currentColor\" x=\"1625\">DET</tspan>\n",
              "</text>\n",
              "\n",
              "<text class=\"displacy-token\" fill=\"currentColor\" text-anchor=\"middle\" y=\"397.0\">\n",
              "    <tspan class=\"displacy-word\" fill=\"currentColor\" x=\"1800\">Machine</tspan>\n",
              "    <tspan class=\"displacy-tag\" dy=\"2em\" fill=\"currentColor\" x=\"1800\">PROPN</tspan>\n",
              "</text>\n",
              "\n",
              "<text class=\"displacy-token\" fill=\"currentColor\" text-anchor=\"middle\" y=\"397.0\">\n",
              "    <tspan class=\"displacy-word\" fill=\"currentColor\" x=\"1975\">Learning</tspan>\n",
              "    <tspan class=\"displacy-tag\" dy=\"2em\" fill=\"currentColor\" x=\"1975\">PROPN</tspan>\n",
              "</text>\n",
              "\n",
              "<text class=\"displacy-token\" fill=\"currentColor\" text-anchor=\"middle\" y=\"397.0\">\n",
              "    <tspan class=\"displacy-word\" fill=\"currentColor\" x=\"2150\">Enginee</tspan>\n",
              "    <tspan class=\"displacy-tag\" dy=\"2em\" fill=\"currentColor\" x=\"2150\">PROPN</tspan>\n",
              "</text>\n",
              "\n",
              "<g class=\"displacy-arrow\">\n",
              "    <path class=\"displacy-arc\" id=\"arrow-43cc76509a734504b70fb26962f4ade7-0-0\" stroke-width=\"2px\" d=\"M70,352.0 C70,264.5 210.0,264.5 210.0,352.0\" fill=\"none\" stroke=\"currentColor\"/>\n",
              "    <text dy=\"1.25em\" style=\"font-size: 0.8em; letter-spacing: 1px\">\n",
              "        <textPath xlink:href=\"#arrow-43cc76509a734504b70fb26962f4ade7-0-0\" class=\"displacy-label\" startOffset=\"50%\" side=\"left\" fill=\"currentColor\" text-anchor=\"middle\">nsubj</textPath>\n",
              "    </text>\n",
              "    <path class=\"displacy-arrowhead\" d=\"M70,354.0 L62,342.0 78,342.0\" fill=\"currentColor\"/>\n",
              "</g>\n",
              "\n",
              "<g class=\"displacy-arrow\">\n",
              "    <path class=\"displacy-arc\" id=\"arrow-43cc76509a734504b70fb26962f4ade7-0-1\" stroke-width=\"2px\" d=\"M245,352.0 C245,264.5 385.0,264.5 385.0,352.0\" fill=\"none\" stroke=\"currentColor\"/>\n",
              "    <text dy=\"1.25em\" style=\"font-size: 0.8em; letter-spacing: 1px\">\n",
              "        <textPath xlink:href=\"#arrow-43cc76509a734504b70fb26962f4ade7-0-1\" class=\"displacy-label\" startOffset=\"50%\" side=\"left\" fill=\"currentColor\" text-anchor=\"middle\">attr</textPath>\n",
              "    </text>\n",
              "    <path class=\"displacy-arrowhead\" d=\"M385.0,354.0 L393.0,342.0 377.0,342.0\" fill=\"currentColor\"/>\n",
              "</g>\n",
              "\n",
              "<g class=\"displacy-arrow\">\n",
              "    <path class=\"displacy-arc\" id=\"arrow-43cc76509a734504b70fb26962f4ade7-0-2\" stroke-width=\"2px\" d=\"M595,352.0 C595,89.5 1270.0,89.5 1270.0,352.0\" fill=\"none\" stroke=\"currentColor\"/>\n",
              "    <text dy=\"1.25em\" style=\"font-size: 0.8em; letter-spacing: 1px\">\n",
              "        <textPath xlink:href=\"#arrow-43cc76509a734504b70fb26962f4ade7-0-2\" class=\"displacy-label\" startOffset=\"50%\" side=\"left\" fill=\"currentColor\" text-anchor=\"middle\">advmod</textPath>\n",
              "    </text>\n",
              "    <path class=\"displacy-arrowhead\" d=\"M595,354.0 L587,342.0 603,342.0\" fill=\"currentColor\"/>\n",
              "</g>\n",
              "\n",
              "<g class=\"displacy-arrow\">\n",
              "    <path class=\"displacy-arc\" id=\"arrow-43cc76509a734504b70fb26962f4ade7-0-3\" stroke-width=\"2px\" d=\"M770,352.0 C770,177.0 1265.0,177.0 1265.0,352.0\" fill=\"none\" stroke=\"currentColor\"/>\n",
              "    <text dy=\"1.25em\" style=\"font-size: 0.8em; letter-spacing: 1px\">\n",
              "        <textPath xlink:href=\"#arrow-43cc76509a734504b70fb26962f4ade7-0-3\" class=\"displacy-label\" startOffset=\"50%\" side=\"left\" fill=\"currentColor\" text-anchor=\"middle\">det</textPath>\n",
              "    </text>\n",
              "    <path class=\"displacy-arrowhead\" d=\"M770,354.0 L762,342.0 778,342.0\" fill=\"currentColor\"/>\n",
              "</g>\n",
              "\n",
              "<g class=\"displacy-arrow\">\n",
              "    <path class=\"displacy-arc\" id=\"arrow-43cc76509a734504b70fb26962f4ade7-0-4\" stroke-width=\"2px\" d=\"M945,352.0 C945,264.5 1085.0,264.5 1085.0,352.0\" fill=\"none\" stroke=\"currentColor\"/>\n",
              "    <text dy=\"1.25em\" style=\"font-size: 0.8em; letter-spacing: 1px\">\n",
              "        <textPath xlink:href=\"#arrow-43cc76509a734504b70fb26962f4ade7-0-4\" class=\"displacy-label\" startOffset=\"50%\" side=\"left\" fill=\"currentColor\" text-anchor=\"middle\">compound</textPath>\n",
              "    </text>\n",
              "    <path class=\"displacy-arrowhead\" d=\"M945,354.0 L937,342.0 953,342.0\" fill=\"currentColor\"/>\n",
              "</g>\n",
              "\n",
              "<g class=\"displacy-arrow\">\n",
              "    <path class=\"displacy-arc\" id=\"arrow-43cc76509a734504b70fb26962f4ade7-0-5\" stroke-width=\"2px\" d=\"M1120,352.0 C1120,264.5 1260.0,264.5 1260.0,352.0\" fill=\"none\" stroke=\"currentColor\"/>\n",
              "    <text dy=\"1.25em\" style=\"font-size: 0.8em; letter-spacing: 1px\">\n",
              "        <textPath xlink:href=\"#arrow-43cc76509a734504b70fb26962f4ade7-0-5\" class=\"displacy-label\" startOffset=\"50%\" side=\"left\" fill=\"currentColor\" text-anchor=\"middle\">compound</textPath>\n",
              "    </text>\n",
              "    <path class=\"displacy-arrowhead\" d=\"M1120,354.0 L1112,342.0 1128,342.0\" fill=\"currentColor\"/>\n",
              "</g>\n",
              "\n",
              "<g class=\"displacy-arrow\">\n",
              "    <path class=\"displacy-arc\" id=\"arrow-43cc76509a734504b70fb26962f4ade7-0-6\" stroke-width=\"2px\" d=\"M70,352.0 C70,2.0 1275.0,2.0 1275.0,352.0\" fill=\"none\" stroke=\"currentColor\"/>\n",
              "    <text dy=\"1.25em\" style=\"font-size: 0.8em; letter-spacing: 1px\">\n",
              "        <textPath xlink:href=\"#arrow-43cc76509a734504b70fb26962f4ade7-0-6\" class=\"displacy-label\" startOffset=\"50%\" side=\"left\" fill=\"currentColor\" text-anchor=\"middle\">appos</textPath>\n",
              "    </text>\n",
              "    <path class=\"displacy-arrowhead\" d=\"M1275.0,354.0 L1283.0,342.0 1267.0,342.0\" fill=\"currentColor\"/>\n",
              "</g>\n",
              "\n",
              "<g class=\"displacy-arrow\">\n",
              "    <path class=\"displacy-arc\" id=\"arrow-43cc76509a734504b70fb26962f4ade7-0-7\" stroke-width=\"2px\" d=\"M1295,352.0 C1295,264.5 1435.0,264.5 1435.0,352.0\" fill=\"none\" stroke=\"currentColor\"/>\n",
              "    <text dy=\"1.25em\" style=\"font-size: 0.8em; letter-spacing: 1px\">\n",
              "        <textPath xlink:href=\"#arrow-43cc76509a734504b70fb26962f4ade7-0-7\" class=\"displacy-label\" startOffset=\"50%\" side=\"left\" fill=\"currentColor\" text-anchor=\"middle\">cc</textPath>\n",
              "    </text>\n",
              "    <path class=\"displacy-arrowhead\" d=\"M1435.0,354.0 L1443.0,342.0 1427.0,342.0\" fill=\"currentColor\"/>\n",
              "</g>\n",
              "\n",
              "<g class=\"displacy-arrow\">\n",
              "    <path class=\"displacy-arc\" id=\"arrow-43cc76509a734504b70fb26962f4ade7-0-8\" stroke-width=\"2px\" d=\"M1645,352.0 C1645,177.0 2140.0,177.0 2140.0,352.0\" fill=\"none\" stroke=\"currentColor\"/>\n",
              "    <text dy=\"1.25em\" style=\"font-size: 0.8em; letter-spacing: 1px\">\n",
              "        <textPath xlink:href=\"#arrow-43cc76509a734504b70fb26962f4ade7-0-8\" class=\"displacy-label\" startOffset=\"50%\" side=\"left\" fill=\"currentColor\" text-anchor=\"middle\">det</textPath>\n",
              "    </text>\n",
              "    <path class=\"displacy-arrowhead\" d=\"M1645,354.0 L1637,342.0 1653,342.0\" fill=\"currentColor\"/>\n",
              "</g>\n",
              "\n",
              "<g class=\"displacy-arrow\">\n",
              "    <path class=\"displacy-arc\" id=\"arrow-43cc76509a734504b70fb26962f4ade7-0-9\" stroke-width=\"2px\" d=\"M1820,352.0 C1820,264.5 1960.0,264.5 1960.0,352.0\" fill=\"none\" stroke=\"currentColor\"/>\n",
              "    <text dy=\"1.25em\" style=\"font-size: 0.8em; letter-spacing: 1px\">\n",
              "        <textPath xlink:href=\"#arrow-43cc76509a734504b70fb26962f4ade7-0-9\" class=\"displacy-label\" startOffset=\"50%\" side=\"left\" fill=\"currentColor\" text-anchor=\"middle\">compound</textPath>\n",
              "    </text>\n",
              "    <path class=\"displacy-arrowhead\" d=\"M1820,354.0 L1812,342.0 1828,342.0\" fill=\"currentColor\"/>\n",
              "</g>\n",
              "\n",
              "<g class=\"displacy-arrow\">\n",
              "    <path class=\"displacy-arc\" id=\"arrow-43cc76509a734504b70fb26962f4ade7-0-10\" stroke-width=\"2px\" d=\"M1995,352.0 C1995,264.5 2135.0,264.5 2135.0,352.0\" fill=\"none\" stroke=\"currentColor\"/>\n",
              "    <text dy=\"1.25em\" style=\"font-size: 0.8em; letter-spacing: 1px\">\n",
              "        <textPath xlink:href=\"#arrow-43cc76509a734504b70fb26962f4ade7-0-10\" class=\"displacy-label\" startOffset=\"50%\" side=\"left\" fill=\"currentColor\" text-anchor=\"middle\">compound</textPath>\n",
              "    </text>\n",
              "    <path class=\"displacy-arrowhead\" d=\"M1995,354.0 L1987,342.0 2003,342.0\" fill=\"currentColor\"/>\n",
              "</g>\n",
              "\n",
              "<g class=\"displacy-arrow\">\n",
              "    <path class=\"displacy-arc\" id=\"arrow-43cc76509a734504b70fb26962f4ade7-0-11\" stroke-width=\"2px\" d=\"M1295,352.0 C1295,89.5 2145.0,89.5 2145.0,352.0\" fill=\"none\" stroke=\"currentColor\"/>\n",
              "    <text dy=\"1.25em\" style=\"font-size: 0.8em; letter-spacing: 1px\">\n",
              "        <textPath xlink:href=\"#arrow-43cc76509a734504b70fb26962f4ade7-0-11\" class=\"displacy-label\" startOffset=\"50%\" side=\"left\" fill=\"currentColor\" text-anchor=\"middle\">conj</textPath>\n",
              "    </text>\n",
              "    <path class=\"displacy-arrowhead\" d=\"M2145.0,354.0 L2153.0,342.0 2137.0,342.0\" fill=\"currentColor\"/>\n",
              "</g>\n",
              "</svg></span>"
            ]
          },
          "metadata": {}
        }
      ]
    },
    {
      "cell_type": "markdown",
      "source": [
        "### Named Entity Recognition"
      ],
      "metadata": {
        "id": "gPfFocEEiE5B"
      }
    },
    {
      "cell_type": "code",
      "source": [
        "nlp = spacy.load(\"en_core_web_sm\")\n",
        "doc = nlp(\n",
        "    \"Reliance is looking at buying U.K. based analytics startup for $7 billion\"\n",
        ")\n",
        "# See the entity present\n",
        "print(f\"Enitites: {doc.ents}\")\n",
        "for ent in doc.ents:\n",
        "    print(ent.text, ent.start_char, ent.end_char, ent.label_) # jakies znane i juz zakodowane encje"
      ],
      "metadata": {
        "colab": {
          "base_uri": "https://localhost:8080/"
        },
        "id": "Ft-At4JklTaW",
        "outputId": "630646e3-49f4-46df-eb40-8612bdb483ce"
      },
      "execution_count": 68,
      "outputs": [
        {
          "output_type": "stream",
          "name": "stdout",
          "text": [
            "Enitites: (Reliance, U.K., $7 billion)\n",
            "Reliance 0 8 ORG\n",
            "U.K. 30 34 GPE\n",
            "$7 billion 63 73 MONEY\n"
          ]
        }
      ]
    },
    {
      "cell_type": "markdown",
      "source": [
        "### Entity Recogniton"
      ],
      "metadata": {
        "id": "Qra8RtirlRBw"
      }
    },
    {
      "cell_type": "markdown",
      "source": [
        "nazywane też Entity Detection jest bardziej zaawansowany od NER, ponieważ rozpoznaje istotne elementy między innymi miejsca, ludzi, organizacje, języki itp.\n",
        "\n",
        "(Śmieszne, że Amazon - to raczej organizacja niż miejsce na Ziemi)."
      ],
      "metadata": {
        "id": "090Yt1OTllmI"
      }
    },
    {
      "cell_type": "code",
      "source": [
        "nlp = spacy.load(\"en_core_web_sm\") # spacy model, abstrakcja na modele z tokenizer, (pipeline) który upraszcza funkcje, pos, podstawowe formy, regexy itd\n",
        "# dobre do baselinu :D\n",
        "doc = nlp(\n",
        "    u\"\"\"The Amazon rainforest,[a] alternatively, the Amazon Jungle, also known in English as Amazonia, is a moist broadleaf tropical rainforest in the Amazon biome that covers most of the Amazon basin of South America. This basin encompasses 7,000,000 km2 (2,700,000 sq mi), of which 5,500,000 km2 (2,100,000 sq mi) are covered by the rainforest. This region includes territory belonging to nine nations.\n",
        "\n",
        "The majority of the forest is contained within Brazil, with 60% of the rainforest, followed by Peru with 13%, Colombia with 10%, and with minor amounts in Bolivia, Ecuador, French Guiana, Guyana, Suriname, and Venezuela. Four nations have \"Amazonas\" as the name of one of their first-level administrative regions and France uses the name \"Guiana Amazonian Park\" for its rainforest protected area. The Amazon represents over half of the planet's remaining rainforests,[2] and comprises the largest and most biodiverse tract of tropical rainforest in the world, with an estimated 390 billion individual trees divided into 16,000 species.[3]\n",
        "\n",
        "Etymology\n",
        "The name Amazon is said to arise from a war Francisco de Orellana fought with the Tapuyas and other tribes. The women of the tribe fought alongside the men, as was their custom.[4] Orellana derived the name Amazonas from the Amazons of Greek mythology, described by Herodotus and Diodorus.[4]\n",
        "\n",
        "History\n",
        "See also: History of South America § Amazon, and Amazon River § History\n",
        "Tribal societies are well capable of escalation to all-out wars between tribes. Thus, in the Amazonas, there was perpetual animosity between the neighboring tribes of the Jivaro. Several tribes of the Jivaroan group, including the Shuar, practised headhunting for trophies and headshrinking.[5] The accounts of missionaries to the area in the borderlands between Brazil and Venezuela have recounted constant infighting in the Yanomami tribes. More than a third of the Yanomamo males, on average, died from warfare.[6]\"\"\"\n",
        ")\n",
        "\n",
        "entities = [(i, i.label_, i.label) for i in doc.ents]\n",
        "entities"
      ],
      "metadata": {
        "id": "X_CRYM63lbCp",
        "colab": {
          "base_uri": "https://localhost:8080/"
        },
        "outputId": "6ea592bb-85df-4d55-87c2-e579ea1bdeea"
      },
      "execution_count": 71,
      "outputs": [
        {
          "output_type": "execute_result",
          "data": {
            "text/plain": [
              "[(Amazon, 'ORG', 383),\n",
              " (Amazon, 'ORG', 383),\n",
              " (Jungle, 'PRODUCT', 386),\n",
              " (English, 'LANGUAGE', 389),\n",
              " (Amazonia, 'GPE', 384),\n",
              " (Amazon, 'ORG', 383),\n",
              " (Amazon, 'ORG', 383),\n",
              " (South America, 'LOC', 385),\n",
              " (7,000,000, 'CARDINAL', 397),\n",
              " (2,700,000 sq mi, 'QUANTITY', 395),\n",
              " (5,500,000, 'CARDINAL', 397),\n",
              " (2,100,000 sq mi, 'QUANTITY', 395),\n",
              " (nine, 'CARDINAL', 397),\n",
              " (Brazil, 'GPE', 384),\n",
              " (60%, 'PERCENT', 393),\n",
              " (Peru, 'GPE', 384),\n",
              " (13%, 'PERCENT', 393),\n",
              " (Colombia, 'GPE', 384),\n",
              " (10%, 'PERCENT', 393),\n",
              " (Bolivia, 'GPE', 384),\n",
              " (Ecuador, 'GPE', 384),\n",
              " (French, 'NORP', 381),\n",
              " (Guiana, 'PERSON', 380),\n",
              " (Guyana, 'GPE', 384),\n",
              " (Suriname, 'GPE', 384),\n",
              " (Venezuela, 'GPE', 384),\n",
              " (Four, 'CARDINAL', 397),\n",
              " (Amazonas, 'PERSON', 380),\n",
              " (one, 'CARDINAL', 397),\n",
              " (first, 'ORDINAL', 396),\n",
              " (France, 'GPE', 384),\n",
              " (Guiana Amazonian Park, 'WORK_OF_ART', 388),\n",
              " (Amazon, 'ORG', 383),\n",
              " (over half, 'CARDINAL', 397),\n",
              " (rainforests,[2, 'PRODUCT', 386),\n",
              " (an estimated 390 billion, 'MONEY', 394),\n",
              " (16,000, 'CARDINAL', 397),\n",
              " (Amazon, 'ORG', 383),\n",
              " (Francisco de Orellana, 'PERSON', 380),\n",
              " (Tapuyas, 'ORG', 383),\n",
              " (Orellana, 'GPE', 384),\n",
              " (Amazonas, 'PERSON', 380),\n",
              " (Amazons, 'CARDINAL', 397),\n",
              " (Greek, 'NORP', 381),\n",
              " (Herodotus, 'ORG', 383),\n",
              " (South America, 'LOC', 385),\n",
              " (Amazon, 'ORG', 383),\n",
              " (Amazon River, 'LOC', 385),\n",
              " (Amazonas, 'PERSON', 380),\n",
              " (Jivaroan, 'NORP', 381),\n",
              " (Shuar, 'ORG', 383),\n",
              " (Brazil, 'GPE', 384),\n",
              " (Venezuela, 'GPE', 384),\n",
              " (Yanomami, 'GPE', 384),\n",
              " (More than a third, 'CARDINAL', 397),\n",
              " (Yanomamo, 'NORP', 381)]"
            ]
          },
          "metadata": {},
          "execution_count": 71
        }
      ]
    },
    {
      "cell_type": "code",
      "source": [
        "spacy.displacy.render(doc, style=\"ent\", jupyter=True)"
      ],
      "metadata": {
        "colab": {
          "base_uri": "https://localhost:8080/",
          "height": 682
        },
        "id": "fQpknN0ol0-D",
        "outputId": "f94d73c3-a838-4c7a-b6c6-f82ce32e1da3"
      },
      "execution_count": 70,
      "outputs": [
        {
          "output_type": "display_data",
          "data": {
            "text/plain": [
              "<IPython.core.display.HTML object>"
            ],
            "text/html": [
              "<span class=\"tex2jax_ignore\"><div class=\"entities\" style=\"line-height: 2.5; direction: ltr\">The \n",
              "<mark class=\"entity\" style=\"background: #7aecec; padding: 0.45em 0.6em; margin: 0 0.25em; line-height: 1; border-radius: 0.35em;\">\n",
              "    Amazon\n",
              "    <span style=\"font-size: 0.8em; font-weight: bold; line-height: 1; border-radius: 0.35em; vertical-align: middle; margin-left: 0.5rem\">ORG</span>\n",
              "</mark>\n",
              " rainforest,[a] alternatively, the \n",
              "<mark class=\"entity\" style=\"background: #7aecec; padding: 0.45em 0.6em; margin: 0 0.25em; line-height: 1; border-radius: 0.35em;\">\n",
              "    Amazon\n",
              "    <span style=\"font-size: 0.8em; font-weight: bold; line-height: 1; border-radius: 0.35em; vertical-align: middle; margin-left: 0.5rem\">ORG</span>\n",
              "</mark>\n",
              " \n",
              "<mark class=\"entity\" style=\"background: #bfeeb7; padding: 0.45em 0.6em; margin: 0 0.25em; line-height: 1; border-radius: 0.35em;\">\n",
              "    Jungle\n",
              "    <span style=\"font-size: 0.8em; font-weight: bold; line-height: 1; border-radius: 0.35em; vertical-align: middle; margin-left: 0.5rem\">PRODUCT</span>\n",
              "</mark>\n",
              ", also known in \n",
              "<mark class=\"entity\" style=\"background: #ff8197; padding: 0.45em 0.6em; margin: 0 0.25em; line-height: 1; border-radius: 0.35em;\">\n",
              "    English\n",
              "    <span style=\"font-size: 0.8em; font-weight: bold; line-height: 1; border-radius: 0.35em; vertical-align: middle; margin-left: 0.5rem\">LANGUAGE</span>\n",
              "</mark>\n",
              " as \n",
              "<mark class=\"entity\" style=\"background: #feca74; padding: 0.45em 0.6em; margin: 0 0.25em; line-height: 1; border-radius: 0.35em;\">\n",
              "    Amazonia\n",
              "    <span style=\"font-size: 0.8em; font-weight: bold; line-height: 1; border-radius: 0.35em; vertical-align: middle; margin-left: 0.5rem\">GPE</span>\n",
              "</mark>\n",
              ", is a moist broadleaf tropical rainforest in the \n",
              "<mark class=\"entity\" style=\"background: #7aecec; padding: 0.45em 0.6em; margin: 0 0.25em; line-height: 1; border-radius: 0.35em;\">\n",
              "    Amazon\n",
              "    <span style=\"font-size: 0.8em; font-weight: bold; line-height: 1; border-radius: 0.35em; vertical-align: middle; margin-left: 0.5rem\">ORG</span>\n",
              "</mark>\n",
              " biome that covers most of the \n",
              "<mark class=\"entity\" style=\"background: #7aecec; padding: 0.45em 0.6em; margin: 0 0.25em; line-height: 1; border-radius: 0.35em;\">\n",
              "    Amazon\n",
              "    <span style=\"font-size: 0.8em; font-weight: bold; line-height: 1; border-radius: 0.35em; vertical-align: middle; margin-left: 0.5rem\">ORG</span>\n",
              "</mark>\n",
              " basin of \n",
              "<mark class=\"entity\" style=\"background: #ff9561; padding: 0.45em 0.6em; margin: 0 0.25em; line-height: 1; border-radius: 0.35em;\">\n",
              "    South America\n",
              "    <span style=\"font-size: 0.8em; font-weight: bold; line-height: 1; border-radius: 0.35em; vertical-align: middle; margin-left: 0.5rem\">LOC</span>\n",
              "</mark>\n",
              ". This basin encompasses \n",
              "<mark class=\"entity\" style=\"background: #e4e7d2; padding: 0.45em 0.6em; margin: 0 0.25em; line-height: 1; border-radius: 0.35em;\">\n",
              "    7,000,000\n",
              "    <span style=\"font-size: 0.8em; font-weight: bold; line-height: 1; border-radius: 0.35em; vertical-align: middle; margin-left: 0.5rem\">CARDINAL</span>\n",
              "</mark>\n",
              " km2 (\n",
              "<mark class=\"entity\" style=\"background: #e4e7d2; padding: 0.45em 0.6em; margin: 0 0.25em; line-height: 1; border-radius: 0.35em;\">\n",
              "    2,700,000 sq mi\n",
              "    <span style=\"font-size: 0.8em; font-weight: bold; line-height: 1; border-radius: 0.35em; vertical-align: middle; margin-left: 0.5rem\">QUANTITY</span>\n",
              "</mark>\n",
              "), of which \n",
              "<mark class=\"entity\" style=\"background: #e4e7d2; padding: 0.45em 0.6em; margin: 0 0.25em; line-height: 1; border-radius: 0.35em;\">\n",
              "    5,500,000\n",
              "    <span style=\"font-size: 0.8em; font-weight: bold; line-height: 1; border-radius: 0.35em; vertical-align: middle; margin-left: 0.5rem\">CARDINAL</span>\n",
              "</mark>\n",
              " km2 (\n",
              "<mark class=\"entity\" style=\"background: #e4e7d2; padding: 0.45em 0.6em; margin: 0 0.25em; line-height: 1; border-radius: 0.35em;\">\n",
              "    2,100,000 sq mi\n",
              "    <span style=\"font-size: 0.8em; font-weight: bold; line-height: 1; border-radius: 0.35em; vertical-align: middle; margin-left: 0.5rem\">QUANTITY</span>\n",
              "</mark>\n",
              ") are covered by the rainforest. This region includes territory belonging to \n",
              "<mark class=\"entity\" style=\"background: #e4e7d2; padding: 0.45em 0.6em; margin: 0 0.25em; line-height: 1; border-radius: 0.35em;\">\n",
              "    nine\n",
              "    <span style=\"font-size: 0.8em; font-weight: bold; line-height: 1; border-radius: 0.35em; vertical-align: middle; margin-left: 0.5rem\">CARDINAL</span>\n",
              "</mark>\n",
              " nations.</br></br>The majority of the forest is contained within \n",
              "<mark class=\"entity\" style=\"background: #feca74; padding: 0.45em 0.6em; margin: 0 0.25em; line-height: 1; border-radius: 0.35em;\">\n",
              "    Brazil\n",
              "    <span style=\"font-size: 0.8em; font-weight: bold; line-height: 1; border-radius: 0.35em; vertical-align: middle; margin-left: 0.5rem\">GPE</span>\n",
              "</mark>\n",
              ", with \n",
              "<mark class=\"entity\" style=\"background: #e4e7d2; padding: 0.45em 0.6em; margin: 0 0.25em; line-height: 1; border-radius: 0.35em;\">\n",
              "    60%\n",
              "    <span style=\"font-size: 0.8em; font-weight: bold; line-height: 1; border-radius: 0.35em; vertical-align: middle; margin-left: 0.5rem\">PERCENT</span>\n",
              "</mark>\n",
              " of the rainforest, followed by \n",
              "<mark class=\"entity\" style=\"background: #feca74; padding: 0.45em 0.6em; margin: 0 0.25em; line-height: 1; border-radius: 0.35em;\">\n",
              "    Peru\n",
              "    <span style=\"font-size: 0.8em; font-weight: bold; line-height: 1; border-radius: 0.35em; vertical-align: middle; margin-left: 0.5rem\">GPE</span>\n",
              "</mark>\n",
              " with \n",
              "<mark class=\"entity\" style=\"background: #e4e7d2; padding: 0.45em 0.6em; margin: 0 0.25em; line-height: 1; border-radius: 0.35em;\">\n",
              "    13%\n",
              "    <span style=\"font-size: 0.8em; font-weight: bold; line-height: 1; border-radius: 0.35em; vertical-align: middle; margin-left: 0.5rem\">PERCENT</span>\n",
              "</mark>\n",
              ", \n",
              "<mark class=\"entity\" style=\"background: #feca74; padding: 0.45em 0.6em; margin: 0 0.25em; line-height: 1; border-radius: 0.35em;\">\n",
              "    Colombia\n",
              "    <span style=\"font-size: 0.8em; font-weight: bold; line-height: 1; border-radius: 0.35em; vertical-align: middle; margin-left: 0.5rem\">GPE</span>\n",
              "</mark>\n",
              " with \n",
              "<mark class=\"entity\" style=\"background: #e4e7d2; padding: 0.45em 0.6em; margin: 0 0.25em; line-height: 1; border-radius: 0.35em;\">\n",
              "    10%\n",
              "    <span style=\"font-size: 0.8em; font-weight: bold; line-height: 1; border-radius: 0.35em; vertical-align: middle; margin-left: 0.5rem\">PERCENT</span>\n",
              "</mark>\n",
              ", and with minor amounts in \n",
              "<mark class=\"entity\" style=\"background: #feca74; padding: 0.45em 0.6em; margin: 0 0.25em; line-height: 1; border-radius: 0.35em;\">\n",
              "    Bolivia\n",
              "    <span style=\"font-size: 0.8em; font-weight: bold; line-height: 1; border-radius: 0.35em; vertical-align: middle; margin-left: 0.5rem\">GPE</span>\n",
              "</mark>\n",
              ", \n",
              "<mark class=\"entity\" style=\"background: #feca74; padding: 0.45em 0.6em; margin: 0 0.25em; line-height: 1; border-radius: 0.35em;\">\n",
              "    Ecuador\n",
              "    <span style=\"font-size: 0.8em; font-weight: bold; line-height: 1; border-radius: 0.35em; vertical-align: middle; margin-left: 0.5rem\">GPE</span>\n",
              "</mark>\n",
              ", \n",
              "<mark class=\"entity\" style=\"background: #c887fb; padding: 0.45em 0.6em; margin: 0 0.25em; line-height: 1; border-radius: 0.35em;\">\n",
              "    French\n",
              "    <span style=\"font-size: 0.8em; font-weight: bold; line-height: 1; border-radius: 0.35em; vertical-align: middle; margin-left: 0.5rem\">NORP</span>\n",
              "</mark>\n",
              " \n",
              "<mark class=\"entity\" style=\"background: #aa9cfc; padding: 0.45em 0.6em; margin: 0 0.25em; line-height: 1; border-radius: 0.35em;\">\n",
              "    Guiana\n",
              "    <span style=\"font-size: 0.8em; font-weight: bold; line-height: 1; border-radius: 0.35em; vertical-align: middle; margin-left: 0.5rem\">PERSON</span>\n",
              "</mark>\n",
              ", \n",
              "<mark class=\"entity\" style=\"background: #feca74; padding: 0.45em 0.6em; margin: 0 0.25em; line-height: 1; border-radius: 0.35em;\">\n",
              "    Guyana\n",
              "    <span style=\"font-size: 0.8em; font-weight: bold; line-height: 1; border-radius: 0.35em; vertical-align: middle; margin-left: 0.5rem\">GPE</span>\n",
              "</mark>\n",
              ", \n",
              "<mark class=\"entity\" style=\"background: #feca74; padding: 0.45em 0.6em; margin: 0 0.25em; line-height: 1; border-radius: 0.35em;\">\n",
              "    Suriname\n",
              "    <span style=\"font-size: 0.8em; font-weight: bold; line-height: 1; border-radius: 0.35em; vertical-align: middle; margin-left: 0.5rem\">GPE</span>\n",
              "</mark>\n",
              ", and \n",
              "<mark class=\"entity\" style=\"background: #feca74; padding: 0.45em 0.6em; margin: 0 0.25em; line-height: 1; border-radius: 0.35em;\">\n",
              "    Venezuela\n",
              "    <span style=\"font-size: 0.8em; font-weight: bold; line-height: 1; border-radius: 0.35em; vertical-align: middle; margin-left: 0.5rem\">GPE</span>\n",
              "</mark>\n",
              ". \n",
              "<mark class=\"entity\" style=\"background: #e4e7d2; padding: 0.45em 0.6em; margin: 0 0.25em; line-height: 1; border-radius: 0.35em;\">\n",
              "    Four\n",
              "    <span style=\"font-size: 0.8em; font-weight: bold; line-height: 1; border-radius: 0.35em; vertical-align: middle; margin-left: 0.5rem\">CARDINAL</span>\n",
              "</mark>\n",
              " nations have &quot;\n",
              "<mark class=\"entity\" style=\"background: #aa9cfc; padding: 0.45em 0.6em; margin: 0 0.25em; line-height: 1; border-radius: 0.35em;\">\n",
              "    Amazonas\n",
              "    <span style=\"font-size: 0.8em; font-weight: bold; line-height: 1; border-radius: 0.35em; vertical-align: middle; margin-left: 0.5rem\">PERSON</span>\n",
              "</mark>\n",
              "&quot; as the name of \n",
              "<mark class=\"entity\" style=\"background: #e4e7d2; padding: 0.45em 0.6em; margin: 0 0.25em; line-height: 1; border-radius: 0.35em;\">\n",
              "    one\n",
              "    <span style=\"font-size: 0.8em; font-weight: bold; line-height: 1; border-radius: 0.35em; vertical-align: middle; margin-left: 0.5rem\">CARDINAL</span>\n",
              "</mark>\n",
              " of their \n",
              "<mark class=\"entity\" style=\"background: #e4e7d2; padding: 0.45em 0.6em; margin: 0 0.25em; line-height: 1; border-radius: 0.35em;\">\n",
              "    first\n",
              "    <span style=\"font-size: 0.8em; font-weight: bold; line-height: 1; border-radius: 0.35em; vertical-align: middle; margin-left: 0.5rem\">ORDINAL</span>\n",
              "</mark>\n",
              "-level administrative regions and \n",
              "<mark class=\"entity\" style=\"background: #feca74; padding: 0.45em 0.6em; margin: 0 0.25em; line-height: 1; border-radius: 0.35em;\">\n",
              "    France\n",
              "    <span style=\"font-size: 0.8em; font-weight: bold; line-height: 1; border-radius: 0.35em; vertical-align: middle; margin-left: 0.5rem\">GPE</span>\n",
              "</mark>\n",
              " uses the name &quot;\n",
              "<mark class=\"entity\" style=\"background: #f0d0ff; padding: 0.45em 0.6em; margin: 0 0.25em; line-height: 1; border-radius: 0.35em;\">\n",
              "    Guiana Amazonian Park\n",
              "    <span style=\"font-size: 0.8em; font-weight: bold; line-height: 1; border-radius: 0.35em; vertical-align: middle; margin-left: 0.5rem\">WORK_OF_ART</span>\n",
              "</mark>\n",
              "&quot; for its rainforest protected area. The \n",
              "<mark class=\"entity\" style=\"background: #7aecec; padding: 0.45em 0.6em; margin: 0 0.25em; line-height: 1; border-radius: 0.35em;\">\n",
              "    Amazon\n",
              "    <span style=\"font-size: 0.8em; font-weight: bold; line-height: 1; border-radius: 0.35em; vertical-align: middle; margin-left: 0.5rem\">ORG</span>\n",
              "</mark>\n",
              " represents \n",
              "<mark class=\"entity\" style=\"background: #e4e7d2; padding: 0.45em 0.6em; margin: 0 0.25em; line-height: 1; border-radius: 0.35em;\">\n",
              "    over half\n",
              "    <span style=\"font-size: 0.8em; font-weight: bold; line-height: 1; border-radius: 0.35em; vertical-align: middle; margin-left: 0.5rem\">CARDINAL</span>\n",
              "</mark>\n",
              " of the planet's remaining \n",
              "<mark class=\"entity\" style=\"background: #bfeeb7; padding: 0.45em 0.6em; margin: 0 0.25em; line-height: 1; border-radius: 0.35em;\">\n",
              "    rainforests,[2\n",
              "    <span style=\"font-size: 0.8em; font-weight: bold; line-height: 1; border-radius: 0.35em; vertical-align: middle; margin-left: 0.5rem\">PRODUCT</span>\n",
              "</mark>\n",
              "] and comprises the largest and most biodiverse tract of tropical rainforest in the world, with \n",
              "<mark class=\"entity\" style=\"background: #e4e7d2; padding: 0.45em 0.6em; margin: 0 0.25em; line-height: 1; border-radius: 0.35em;\">\n",
              "    an estimated 390 billion\n",
              "    <span style=\"font-size: 0.8em; font-weight: bold; line-height: 1; border-radius: 0.35em; vertical-align: middle; margin-left: 0.5rem\">MONEY</span>\n",
              "</mark>\n",
              " individual trees divided into \n",
              "<mark class=\"entity\" style=\"background: #e4e7d2; padding: 0.45em 0.6em; margin: 0 0.25em; line-height: 1; border-radius: 0.35em;\">\n",
              "    16,000\n",
              "    <span style=\"font-size: 0.8em; font-weight: bold; line-height: 1; border-radius: 0.35em; vertical-align: middle; margin-left: 0.5rem\">CARDINAL</span>\n",
              "</mark>\n",
              " species.[3]</br></br>Etymology</br>The name \n",
              "<mark class=\"entity\" style=\"background: #7aecec; padding: 0.45em 0.6em; margin: 0 0.25em; line-height: 1; border-radius: 0.35em;\">\n",
              "    Amazon\n",
              "    <span style=\"font-size: 0.8em; font-weight: bold; line-height: 1; border-radius: 0.35em; vertical-align: middle; margin-left: 0.5rem\">ORG</span>\n",
              "</mark>\n",
              " is said to arise from a war \n",
              "<mark class=\"entity\" style=\"background: #aa9cfc; padding: 0.45em 0.6em; margin: 0 0.25em; line-height: 1; border-radius: 0.35em;\">\n",
              "    Francisco de Orellana\n",
              "    <span style=\"font-size: 0.8em; font-weight: bold; line-height: 1; border-radius: 0.35em; vertical-align: middle; margin-left: 0.5rem\">PERSON</span>\n",
              "</mark>\n",
              " fought with the \n",
              "<mark class=\"entity\" style=\"background: #7aecec; padding: 0.45em 0.6em; margin: 0 0.25em; line-height: 1; border-radius: 0.35em;\">\n",
              "    Tapuyas\n",
              "    <span style=\"font-size: 0.8em; font-weight: bold; line-height: 1; border-radius: 0.35em; vertical-align: middle; margin-left: 0.5rem\">ORG</span>\n",
              "</mark>\n",
              " and other tribes. The women of the tribe fought alongside the men, as was their custom.[4] \n",
              "<mark class=\"entity\" style=\"background: #feca74; padding: 0.45em 0.6em; margin: 0 0.25em; line-height: 1; border-radius: 0.35em;\">\n",
              "    Orellana\n",
              "    <span style=\"font-size: 0.8em; font-weight: bold; line-height: 1; border-radius: 0.35em; vertical-align: middle; margin-left: 0.5rem\">GPE</span>\n",
              "</mark>\n",
              " derived the name \n",
              "<mark class=\"entity\" style=\"background: #aa9cfc; padding: 0.45em 0.6em; margin: 0 0.25em; line-height: 1; border-radius: 0.35em;\">\n",
              "    Amazonas\n",
              "    <span style=\"font-size: 0.8em; font-weight: bold; line-height: 1; border-radius: 0.35em; vertical-align: middle; margin-left: 0.5rem\">PERSON</span>\n",
              "</mark>\n",
              " from the \n",
              "<mark class=\"entity\" style=\"background: #e4e7d2; padding: 0.45em 0.6em; margin: 0 0.25em; line-height: 1; border-radius: 0.35em;\">\n",
              "    Amazons\n",
              "    <span style=\"font-size: 0.8em; font-weight: bold; line-height: 1; border-radius: 0.35em; vertical-align: middle; margin-left: 0.5rem\">CARDINAL</span>\n",
              "</mark>\n",
              " of \n",
              "<mark class=\"entity\" style=\"background: #c887fb; padding: 0.45em 0.6em; margin: 0 0.25em; line-height: 1; border-radius: 0.35em;\">\n",
              "    Greek\n",
              "    <span style=\"font-size: 0.8em; font-weight: bold; line-height: 1; border-radius: 0.35em; vertical-align: middle; margin-left: 0.5rem\">NORP</span>\n",
              "</mark>\n",
              " mythology, described by \n",
              "<mark class=\"entity\" style=\"background: #7aecec; padding: 0.45em 0.6em; margin: 0 0.25em; line-height: 1; border-radius: 0.35em;\">\n",
              "    Herodotus\n",
              "    <span style=\"font-size: 0.8em; font-weight: bold; line-height: 1; border-radius: 0.35em; vertical-align: middle; margin-left: 0.5rem\">ORG</span>\n",
              "</mark>\n",
              " and Diodorus.[4]</br></br>History</br>See also: History of \n",
              "<mark class=\"entity\" style=\"background: #ff9561; padding: 0.45em 0.6em; margin: 0 0.25em; line-height: 1; border-radius: 0.35em;\">\n",
              "    South America\n",
              "    <span style=\"font-size: 0.8em; font-weight: bold; line-height: 1; border-radius: 0.35em; vertical-align: middle; margin-left: 0.5rem\">LOC</span>\n",
              "</mark>\n",
              " § \n",
              "<mark class=\"entity\" style=\"background: #7aecec; padding: 0.45em 0.6em; margin: 0 0.25em; line-height: 1; border-radius: 0.35em;\">\n",
              "    Amazon\n",
              "    <span style=\"font-size: 0.8em; font-weight: bold; line-height: 1; border-radius: 0.35em; vertical-align: middle; margin-left: 0.5rem\">ORG</span>\n",
              "</mark>\n",
              ", and \n",
              "<mark class=\"entity\" style=\"background: #ff9561; padding: 0.45em 0.6em; margin: 0 0.25em; line-height: 1; border-radius: 0.35em;\">\n",
              "    Amazon River\n",
              "    <span style=\"font-size: 0.8em; font-weight: bold; line-height: 1; border-radius: 0.35em; vertical-align: middle; margin-left: 0.5rem\">LOC</span>\n",
              "</mark>\n",
              " § History</br>Tribal societies are well capable of escalation to all-out wars between tribes. Thus, in the \n",
              "<mark class=\"entity\" style=\"background: #aa9cfc; padding: 0.45em 0.6em; margin: 0 0.25em; line-height: 1; border-radius: 0.35em;\">\n",
              "    Amazonas\n",
              "    <span style=\"font-size: 0.8em; font-weight: bold; line-height: 1; border-radius: 0.35em; vertical-align: middle; margin-left: 0.5rem\">PERSON</span>\n",
              "</mark>\n",
              ", there was perpetual animosity between the neighboring tribes of the Jivaro. Several tribes of the \n",
              "<mark class=\"entity\" style=\"background: #c887fb; padding: 0.45em 0.6em; margin: 0 0.25em; line-height: 1; border-radius: 0.35em;\">\n",
              "    Jivaroan\n",
              "    <span style=\"font-size: 0.8em; font-weight: bold; line-height: 1; border-radius: 0.35em; vertical-align: middle; margin-left: 0.5rem\">NORP</span>\n",
              "</mark>\n",
              " group, including the \n",
              "<mark class=\"entity\" style=\"background: #7aecec; padding: 0.45em 0.6em; margin: 0 0.25em; line-height: 1; border-radius: 0.35em;\">\n",
              "    Shuar\n",
              "    <span style=\"font-size: 0.8em; font-weight: bold; line-height: 1; border-radius: 0.35em; vertical-align: middle; margin-left: 0.5rem\">ORG</span>\n",
              "</mark>\n",
              ", practised headhunting for trophies and headshrinking.[5] The accounts of missionaries to the area in the borderlands between \n",
              "<mark class=\"entity\" style=\"background: #feca74; padding: 0.45em 0.6em; margin: 0 0.25em; line-height: 1; border-radius: 0.35em;\">\n",
              "    Brazil\n",
              "    <span style=\"font-size: 0.8em; font-weight: bold; line-height: 1; border-radius: 0.35em; vertical-align: middle; margin-left: 0.5rem\">GPE</span>\n",
              "</mark>\n",
              " and \n",
              "<mark class=\"entity\" style=\"background: #feca74; padding: 0.45em 0.6em; margin: 0 0.25em; line-height: 1; border-radius: 0.35em;\">\n",
              "    Venezuela\n",
              "    <span style=\"font-size: 0.8em; font-weight: bold; line-height: 1; border-radius: 0.35em; vertical-align: middle; margin-left: 0.5rem\">GPE</span>\n",
              "</mark>\n",
              " have recounted constant infighting in the \n",
              "<mark class=\"entity\" style=\"background: #feca74; padding: 0.45em 0.6em; margin: 0 0.25em; line-height: 1; border-radius: 0.35em;\">\n",
              "    Yanomami\n",
              "    <span style=\"font-size: 0.8em; font-weight: bold; line-height: 1; border-radius: 0.35em; vertical-align: middle; margin-left: 0.5rem\">GPE</span>\n",
              "</mark>\n",
              " tribes. \n",
              "<mark class=\"entity\" style=\"background: #e4e7d2; padding: 0.45em 0.6em; margin: 0 0.25em; line-height: 1; border-radius: 0.35em;\">\n",
              "    More than a third\n",
              "    <span style=\"font-size: 0.8em; font-weight: bold; line-height: 1; border-radius: 0.35em; vertical-align: middle; margin-left: 0.5rem\">CARDINAL</span>\n",
              "</mark>\n",
              " of the \n",
              "<mark class=\"entity\" style=\"background: #c887fb; padding: 0.45em 0.6em; margin: 0 0.25em; line-height: 1; border-radius: 0.35em;\">\n",
              "    Yanomamo\n",
              "    <span style=\"font-size: 0.8em; font-weight: bold; line-height: 1; border-radius: 0.35em; vertical-align: middle; margin-left: 0.5rem\">NORP</span>\n",
              "</mark>\n",
              " males, on average, died from warfare.[6]</div></span>"
            ]
          },
          "metadata": {}
        }
      ]
    },
    {
      "cell_type": "markdown",
      "source": [
        "## Tokenizacja\n",
        "\n",
        "Jak tworzyć tokeny z tekstu - pomysły:\n",
        "- Oddzielamy spacjami\n",
        "- Znakami interpunkcyjnymi\n",
        "- regexy (np. 'doesn't' => (\"does\", \"n't\") - 2 tokeny)\n",
        "\n",
        "---\n",
        "\n",
        "bardzo rozszerza nam słownik problemem są bardzo długie wyrazy\n"
      ],
      "metadata": {
        "id": "HRKCNM0o0pjJ"
      }
    },
    {
      "cell_type": "code",
      "source": [
        "word_tokenize(\"Doesn't this guitar sound so cool?\")"
      ],
      "metadata": {
        "colab": {
          "base_uri": "https://localhost:8080/"
        },
        "id": "4PZWdZoxnrih",
        "outputId": "aca85154-e18b-43cb-e78b-11b4847ddd32"
      },
      "execution_count": null,
      "outputs": [
        {
          "output_type": "execute_result",
          "data": {
            "text/plain": [
              "['Does', \"n't\", 'this', 'guitar', 'sound', 'so', 'cool', '?']"
            ]
          },
          "metadata": {},
          "execution_count": 40
        }
      ]
    },
    {
      "cell_type": "markdown",
      "source": [
        "### Subwords tokenization"
      ],
      "metadata": {
        "id": "gTFCe5KkuADu"
      }
    },
    {
      "cell_type": "markdown",
      "source": [
        "Poprzednie reprezentacje bazują na całych słowach.\n",
        "\n",
        "Ma to parę problemów:\n",
        "1. Nie wiadomo co robić ze słowami, które się nie znalazły w słowniku (najczęściej je się zastępuje pustym ciągiem \"\")\n",
        "2. Wymiarowość słownika jest bbb duża"
      ],
      "metadata": {
        "id": "aEntZU6GuEg9"
      }
    },
    {
      "cell_type": "markdown",
      "source": [
        "Z rozwiązaniem przychodzą reprezentacje, które bazują nie na samych słowach, tylko na ich fragmentach.\n",
        "\n",
        "Pozostaje pytanie jak wybierać ciągi znaków, które będą tokenami.\n",
        "\n",
        "Aktualnie wszystkie SOTA modele korzystają właśnie z takich tokenizacji - warto się temu przyjrzeć.\n",
        "\n",
        "---\n",
        "zmniejszając liczbę słów zmniejsza się również liczba tokenów"
      ],
      "metadata": {
        "id": "kwcJoSEac8ar"
      }
    },
    {
      "cell_type": "code",
      "source": [
        "prev"
      ],
      "metadata": {
        "colab": {
          "base_uri": "https://localhost:8080/"
        },
        "id": "ytzD065z6y4C",
        "outputId": "658bd79d-c977-4b60-f003-e85a0d068ea0"
      },
      "execution_count": 74,
      "outputs": [
        {
          "output_type": "execute_result",
          "data": {
            "text/plain": [
              "<function locale.getpreferredencoding(do_setlocale=True)>"
            ]
          },
          "metadata": {},
          "execution_count": 74
        }
      ]
    },
    {
      "cell_type": "code",
      "source": [
        "import locale\n",
        "\n",
        "\n",
        "prev = locale.getpreferredencoding\n",
        "locale.getpreferredencoding = lambda: \"UTF-8\"\n",
        "\n",
        "!pip install transformers datasets evaluate sacremoses huggingface_hub\n",
        "\n",
        "locale.getpreferredencoding = prev"
      ],
      "metadata": {
        "id": "80nlemkkoNQ6"
      },
      "execution_count": null,
      "outputs": []
    },
    {
      "cell_type": "code",
      "source": [
        "prev"
      ],
      "metadata": {
        "colab": {
          "base_uri": "https://localhost:8080/"
        },
        "id": "rVTTI6lz6Uv8",
        "outputId": "077b9e9e-6e3e-4868-e48f-f09f56054aaa"
      },
      "execution_count": 75,
      "outputs": [
        {
          "output_type": "execute_result",
          "data": {
            "text/plain": [
              "<function locale.getpreferredencoding(do_setlocale=True)>"
            ]
          },
          "metadata": {},
          "execution_count": 75
        }
      ]
    },
    {
      "cell_type": "code",
      "source": [
        "from transformers import BertTokenizer\n",
        "\n",
        "tokenizer = BertTokenizer.from_pretrained(\"bert-base-uncased\")\n",
        "tokenizer.tokenize(\"I have a new GPU!\")"
      ],
      "metadata": {
        "id": "oxX6yCpOuEpB",
        "colab": {
          "base_uri": "https://localhost:8080/",
          "height": 131,
          "referenced_widgets": [
            "03c75fa0ce284566b66192c047051466",
            "29fb26ac64cf495c93f5f0ada7c4d9e9",
            "42ab0376d4b147578a1ddebabb99721c",
            "bc769fc141a8416394846b41e261315a",
            "f90ee003ef4949c2830692c8817f673f",
            "d6e036718e7f49c88c98c97c7f01ae79",
            "da7532965bf64072879e9bc08196f4bc",
            "9f3abc59243f491e9a3c2fef2b52199a",
            "2104eb5d41c24076b9bc76c80d878a6c",
            "f1ff33f5ab264b5e8dbf6eaedceb8f7c",
            "a3365372df554b19b26391e0c79620ad",
            "971b62e8a5644d7e80892d2db8fe96b0",
            "346d55bfe87e4e789f1f44945dc0c07f",
            "d3eba3a5c2d5450890d0488cdf24dd1b",
            "b62d871d8e654065a9f6dd757dea4f52",
            "a2efbeeef6024193a463fefe08314f66",
            "3538606d055f4d389a5caeaab67570fe",
            "9be7949e02a14407be9229b6eb295c2e",
            "da031cc7a69341dda3cd7eb41d01b687",
            "d34e8e6dfc854ababb393ad4fdc475d8",
            "e319d89ab6b84ce1a9b5391fa1a91790",
            "df079efc856b4a0b9c2190c2b877a74f",
            "45a2c6a586e34acdb550dac3e5efb0ab",
            "296692ba118b49958209e0515f8396ac",
            "efe06bb7b95c4b5c8bb4a273a457b93b",
            "108cd12706c94a6b8863dfa192adcb14",
            "7e53fd99ef4d44d093f4b874174287bd",
            "ad8aab08f49149c3845b85c1621a1077",
            "54b16a0115a342aab1a3425c6d339fc3",
            "607a5c942d114f0fb9493a1b33fd6194",
            "dcdef49bc2fd42ac8761f0fcfb1ac2ef",
            "870d8a3110e64ce6905cab3ed5a1cf03",
            "8a167ad2475a4117baa2e8d3aba9d1b9"
          ]
        },
        "outputId": "4e24e68b-f8da-4130-8020-442f97e6e93d"
      },
      "execution_count": 76,
      "outputs": [
        {
          "output_type": "display_data",
          "data": {
            "text/plain": [
              "Downloading (…)solve/main/vocab.txt:   0%|          | 0.00/232k [00:00<?, ?B/s]"
            ],
            "application/vnd.jupyter.widget-view+json": {
              "version_major": 2,
              "version_minor": 0,
              "model_id": "03c75fa0ce284566b66192c047051466"
            }
          },
          "metadata": {}
        },
        {
          "output_type": "display_data",
          "data": {
            "text/plain": [
              "Downloading (…)okenizer_config.json:   0%|          | 0.00/28.0 [00:00<?, ?B/s]"
            ],
            "application/vnd.jupyter.widget-view+json": {
              "version_major": 2,
              "version_minor": 0,
              "model_id": "971b62e8a5644d7e80892d2db8fe96b0"
            }
          },
          "metadata": {}
        },
        {
          "output_type": "display_data",
          "data": {
            "text/plain": [
              "Downloading (…)lve/main/config.json:   0%|          | 0.00/570 [00:00<?, ?B/s]"
            ],
            "application/vnd.jupyter.widget-view+json": {
              "version_major": 2,
              "version_minor": 0,
              "model_id": "45a2c6a586e34acdb550dac3e5efb0ab"
            }
          },
          "metadata": {}
        },
        {
          "output_type": "execute_result",
          "data": {
            "text/plain": [
              "['i', 'have', 'a', 'new', 'gp', '##u', '!']"
            ]
          },
          "metadata": {},
          "execution_count": 76
        }
      ]
    },
    {
      "cell_type": "code",
      "source": [
        "from tokenizers import Tokenizer\n",
        "from tokenizers.models import BPE\n",
        "from tokenizers.trainers import BpeTrainer\n",
        "from tokenizers.pre_tokenizers import Whitespace\n",
        "\n",
        "\n",
        "tokenizer = Tokenizer(BPE(unk_token=\"[UNK]\"))\n",
        "tokenizer.pre_tokenizer = Whitespace()\n",
        "trainer = BpeTrainer(\n",
        "    special_tokens=[\"[UNK]\", \"[CLS]\", \"[SEP]\", \"[PAD]\", \"[MASK]\"], # unk unknown, sep separator, pad padding\n",
        "    vocab_size=2022,\n",
        "    min_frequency=1,\n",
        ")\n",
        "\n",
        "with open(\"tokenizer_train.txt\", \"w\") as f:\n",
        "    for line in twenty_train.data[:100]:\n",
        "        f.write(line + \"\\n\")"
      ],
      "metadata": {
        "id": "AAM3Vvh2cPAm"
      },
      "execution_count": 77,
      "outputs": []
    },
    {
      "cell_type": "code",
      "source": [
        "tokenizer.train([\"tokenizer_train.txt\"], trainer)"
      ],
      "metadata": {
        "id": "F-S7EhyQcQ1I"
      },
      "execution_count": 78,
      "outputs": []
    },
    {
      "cell_type": "code",
      "source": [
        "tokenizer.encode(\"Time to tokenize!!!.\").tokens"
      ],
      "metadata": {
        "colab": {
          "base_uri": "https://localhost:8080/"
        },
        "id": "G019U7Mxd0IZ",
        "outputId": "d56fa097-1379-47cd-89cf-66ff4cc11d9e"
      },
      "execution_count": 79,
      "outputs": [
        {
          "output_type": "execute_result",
          "data": {
            "text/plain": [
              "['Tim', 'e', 'to', 'to', 'k', 'en', 'ize', '!!', '!', '.']"
            ]
          },
          "metadata": {},
          "execution_count": 79
        }
      ]
    },
    {
      "cell_type": "markdown",
      "source": [
        "Wiele różnych rzeczy można robić z biblioteką [tokenizers](https://huggingface.co/docs/tokenizers/python/latest/) (Dodawanie specjalnych tokenów na początek i na koniec, pretokenizatory, mnóstwo gotowych tokenizatorów).\n",
        "\n",
        "---\n",
        "\n",
        "`huggingface` bardzo dużo materiałów o wszystkim związanym z transformerami"
      ],
      "metadata": {
        "id": "UO8WP5jld0Xo"
      }
    },
    {
      "cell_type": "markdown",
      "source": [
        "## Reprezentacje słów"
      ],
      "metadata": {
        "id": "VZ1Ajnu8nrpm"
      }
    },
    {
      "cell_type": "markdown",
      "source": [
        "### Word2Vec"
      ],
      "metadata": {
        "id": "co4nn14h0r-X"
      }
    },
    {
      "cell_type": "markdown",
      "source": [
        "![word2vec](https://jalammar.github.io/images/word2vec/word2vec.png)"
      ],
      "metadata": {
        "id": "Ku89hYmdINbt"
      }
    },
    {
      "cell_type": "markdown",
      "source": [
        "### Podobieństwo słów\n",
        "\n",
        "Mając embeddingi słów można badać ich podobieństwo badając ich odległość w przestrzeni, w której się znajdują. Najczęściej wykorzystuje się do tego odległość cosinusową\n",
        "\n",
        "$$cosine\\_similarity(A, B) = \\frac{A * B}{||A|| * ||B||} = cos(\\theta)$$\n",
        "\n",
        "\n",
        "Oznacza kąt pomiędzy wektorami.\n",
        "Kąt 0 -> cos(0) = 1 -> wektory skierowane w tę samą stronę i podobieństwo największe.\n"
      ],
      "metadata": {
        "id": "giGT-gbXe0_8"
      }
    },
    {
      "cell_type": "markdown",
      "source": [
        "Dla Word2vec, żeby przedstawić ideę, wczytam gotowe embeddingi, które można pobrać [tutaj](https://drive.google.com/file/d/0B7XkCwpI5KDYNlNUTTlSS21pQmM/edit?resourcekey=0-wjGZdNAUop6WykTtMip30g)"
      ],
      "metadata": {
        "id": "bgWasiI1uVOX"
      }
    },
    {
      "cell_type": "code",
      "source": [
        "prev"
      ],
      "metadata": {
        "id": "nMBVOnN55N5B",
        "outputId": "80f87ec1-fb52-4258-b01b-b97bd2e30fcc",
        "colab": {
          "base_uri": "https://localhost:8080/"
        }
      },
      "execution_count": 81,
      "outputs": [
        {
          "output_type": "execute_result",
          "data": {
            "text/plain": [
              "<function locale.getpreferredencoding(do_setlocale=True)>"
            ]
          },
          "metadata": {},
          "execution_count": 81
        }
      ]
    },
    {
      "cell_type": "code",
      "source": [
        "from gensim.models import KeyedVectors\n",
        "\n",
        "from google.colab import drive\n",
        "drive.mount('/content/drive/')\n",
        "\n",
        "filename = \"/content/drive/MyDrive/GoogleNews-vectors-negative300.bin\" # ~ 3gb\n",
        "model = KeyedVectors.load_word2vec_format(filename, binary=True)\n",
        "\n",
        "result = model.most_similar(\n",
        "    positive=[\"woman\", \"king\"], negative=[\"man\"], topn=1 # + woman, king - man => queen\n",
        ")\n",
        "print(result)"
      ],
      "metadata": {
        "colab": {
          "base_uri": "https://localhost:8080/",
          "height": 389
        },
        "id": "OOHNjcwTe1F2",
        "outputId": "36891a73-b28c-4213-b653-1a32a992fa92"
      },
      "execution_count": 80,
      "outputs": [
        {
          "output_type": "error",
          "ename": "MessageError",
          "evalue": "ignored",
          "traceback": [
            "\u001b[0;31m---------------------------------------------------------------------------\u001b[0m",
            "\u001b[0;31mMessageError\u001b[0m                              Traceback (most recent call last)",
            "\u001b[0;32m<ipython-input-80-25447c4a8e4c>\u001b[0m in \u001b[0;36m<cell line: 4>\u001b[0;34m()\u001b[0m\n\u001b[1;32m      2\u001b[0m \u001b[0;34m\u001b[0m\u001b[0m\n\u001b[1;32m      3\u001b[0m \u001b[0;32mfrom\u001b[0m \u001b[0mgoogle\u001b[0m\u001b[0;34m.\u001b[0m\u001b[0mcolab\u001b[0m \u001b[0;32mimport\u001b[0m \u001b[0mdrive\u001b[0m\u001b[0;34m\u001b[0m\u001b[0;34m\u001b[0m\u001b[0m\n\u001b[0;32m----> 4\u001b[0;31m \u001b[0mdrive\u001b[0m\u001b[0;34m.\u001b[0m\u001b[0mmount\u001b[0m\u001b[0;34m(\u001b[0m\u001b[0;34m'/content/drive/'\u001b[0m\u001b[0;34m)\u001b[0m\u001b[0;34m\u001b[0m\u001b[0;34m\u001b[0m\u001b[0m\n\u001b[0m\u001b[1;32m      5\u001b[0m \u001b[0;34m\u001b[0m\u001b[0m\n\u001b[1;32m      6\u001b[0m \u001b[0mfilename\u001b[0m \u001b[0;34m=\u001b[0m \u001b[0;34m\"/content/drive/MyDrive/GoogleNews-vectors-negative300.bin\"\u001b[0m\u001b[0;34m\u001b[0m\u001b[0;34m\u001b[0m\u001b[0m\n",
            "\u001b[0;32m/usr/local/lib/python3.9/dist-packages/google/colab/drive.py\u001b[0m in \u001b[0;36mmount\u001b[0;34m(mountpoint, force_remount, timeout_ms, readonly)\u001b[0m\n\u001b[1;32m    101\u001b[0m \u001b[0;32mdef\u001b[0m \u001b[0mmount\u001b[0m\u001b[0;34m(\u001b[0m\u001b[0mmountpoint\u001b[0m\u001b[0;34m,\u001b[0m \u001b[0mforce_remount\u001b[0m\u001b[0;34m=\u001b[0m\u001b[0;32mFalse\u001b[0m\u001b[0;34m,\u001b[0m \u001b[0mtimeout_ms\u001b[0m\u001b[0;34m=\u001b[0m\u001b[0;36m120000\u001b[0m\u001b[0;34m,\u001b[0m \u001b[0mreadonly\u001b[0m\u001b[0;34m=\u001b[0m\u001b[0;32mFalse\u001b[0m\u001b[0;34m)\u001b[0m\u001b[0;34m:\u001b[0m\u001b[0;34m\u001b[0m\u001b[0;34m\u001b[0m\u001b[0m\n\u001b[1;32m    102\u001b[0m   \u001b[0;34m\"\"\"Mount your Google Drive at the specified mountpoint path.\"\"\"\u001b[0m\u001b[0;34m\u001b[0m\u001b[0;34m\u001b[0m\u001b[0m\n\u001b[0;32m--> 103\u001b[0;31m   return _mount(\n\u001b[0m\u001b[1;32m    104\u001b[0m       \u001b[0mmountpoint\u001b[0m\u001b[0;34m,\u001b[0m\u001b[0;34m\u001b[0m\u001b[0;34m\u001b[0m\u001b[0m\n\u001b[1;32m    105\u001b[0m       \u001b[0mforce_remount\u001b[0m\u001b[0;34m=\u001b[0m\u001b[0mforce_remount\u001b[0m\u001b[0;34m,\u001b[0m\u001b[0;34m\u001b[0m\u001b[0;34m\u001b[0m\u001b[0m\n",
            "\u001b[0;32m/usr/local/lib/python3.9/dist-packages/google/colab/drive.py\u001b[0m in \u001b[0;36m_mount\u001b[0;34m(mountpoint, force_remount, timeout_ms, ephemeral, readonly)\u001b[0m\n\u001b[1;32m    130\u001b[0m   )\n\u001b[1;32m    131\u001b[0m   \u001b[0;32mif\u001b[0m \u001b[0mephemeral\u001b[0m\u001b[0;34m:\u001b[0m\u001b[0;34m\u001b[0m\u001b[0;34m\u001b[0m\u001b[0m\n\u001b[0;32m--> 132\u001b[0;31m     _message.blocking_request(\n\u001b[0m\u001b[1;32m    133\u001b[0m         \u001b[0;34m'request_auth'\u001b[0m\u001b[0;34m,\u001b[0m \u001b[0mrequest\u001b[0m\u001b[0;34m=\u001b[0m\u001b[0;34m{\u001b[0m\u001b[0;34m'authType'\u001b[0m\u001b[0;34m:\u001b[0m \u001b[0;34m'dfs_ephemeral'\u001b[0m\u001b[0;34m}\u001b[0m\u001b[0;34m,\u001b[0m \u001b[0mtimeout_sec\u001b[0m\u001b[0;34m=\u001b[0m\u001b[0;32mNone\u001b[0m\u001b[0;34m\u001b[0m\u001b[0;34m\u001b[0m\u001b[0m\n\u001b[1;32m    134\u001b[0m     )\n",
            "\u001b[0;32m/usr/local/lib/python3.9/dist-packages/google/colab/_message.py\u001b[0m in \u001b[0;36mblocking_request\u001b[0;34m(request_type, request, timeout_sec, parent)\u001b[0m\n\u001b[1;32m    175\u001b[0m       \u001b[0mrequest_type\u001b[0m\u001b[0;34m,\u001b[0m \u001b[0mrequest\u001b[0m\u001b[0;34m,\u001b[0m \u001b[0mparent\u001b[0m\u001b[0;34m=\u001b[0m\u001b[0mparent\u001b[0m\u001b[0;34m,\u001b[0m \u001b[0mexpect_reply\u001b[0m\u001b[0;34m=\u001b[0m\u001b[0;32mTrue\u001b[0m\u001b[0;34m\u001b[0m\u001b[0;34m\u001b[0m\u001b[0m\n\u001b[1;32m    176\u001b[0m   )\n\u001b[0;32m--> 177\u001b[0;31m   \u001b[0;32mreturn\u001b[0m \u001b[0mread_reply_from_input\u001b[0m\u001b[0;34m(\u001b[0m\u001b[0mrequest_id\u001b[0m\u001b[0;34m,\u001b[0m \u001b[0mtimeout_sec\u001b[0m\u001b[0;34m)\u001b[0m\u001b[0;34m\u001b[0m\u001b[0;34m\u001b[0m\u001b[0m\n\u001b[0m",
            "\u001b[0;32m/usr/local/lib/python3.9/dist-packages/google/colab/_message.py\u001b[0m in \u001b[0;36mread_reply_from_input\u001b[0;34m(message_id, timeout_sec)\u001b[0m\n\u001b[1;32m    102\u001b[0m     ):\n\u001b[1;32m    103\u001b[0m       \u001b[0;32mif\u001b[0m \u001b[0;34m'error'\u001b[0m \u001b[0;32min\u001b[0m \u001b[0mreply\u001b[0m\u001b[0;34m:\u001b[0m\u001b[0;34m\u001b[0m\u001b[0;34m\u001b[0m\u001b[0m\n\u001b[0;32m--> 104\u001b[0;31m         \u001b[0;32mraise\u001b[0m \u001b[0mMessageError\u001b[0m\u001b[0;34m(\u001b[0m\u001b[0mreply\u001b[0m\u001b[0;34m[\u001b[0m\u001b[0;34m'error'\u001b[0m\u001b[0;34m]\u001b[0m\u001b[0;34m)\u001b[0m\u001b[0;34m\u001b[0m\u001b[0;34m\u001b[0m\u001b[0m\n\u001b[0m\u001b[1;32m    105\u001b[0m       \u001b[0;32mreturn\u001b[0m \u001b[0mreply\u001b[0m\u001b[0;34m.\u001b[0m\u001b[0mget\u001b[0m\u001b[0;34m(\u001b[0m\u001b[0;34m'data'\u001b[0m\u001b[0;34m,\u001b[0m \u001b[0;32mNone\u001b[0m\u001b[0;34m)\u001b[0m\u001b[0;34m\u001b[0m\u001b[0;34m\u001b[0m\u001b[0m\n\u001b[1;32m    106\u001b[0m \u001b[0;34m\u001b[0m\u001b[0m\n",
            "\u001b[0;31mMessageError\u001b[0m: Error: credential propagation was unsuccessful"
          ]
        }
      ]
    },
    {
      "cell_type": "markdown",
      "source": [
        "### Zabawy z arytmetyką Word2vec"
      ],
      "metadata": {
        "id": "nBaB7c8Ca3en"
      }
    },
    {
      "cell_type": "code",
      "source": [
        "print(model.most_similar(positive=[\"woman\", \"king\"], negative=[\"man\"], topn=10))\n",
        "print(model.most_similar(positive=[\"Paris\", \"Germany\"], negative=[\"France\"], topn=10))"
      ],
      "metadata": {
        "id": "AXPdTUmBa3k2",
        "colab": {
          "base_uri": "https://localhost:8080/",
          "height": 187
        },
        "outputId": "460d9720-00a4-495b-c81c-e97de2668b98"
      },
      "execution_count": null,
      "outputs": [
        {
          "output_type": "error",
          "ename": "NameError",
          "evalue": "ignored",
          "traceback": [
            "\u001b[0;31m---------------------------------------------------------------------------\u001b[0m",
            "\u001b[0;31mNameError\u001b[0m                                 Traceback (most recent call last)",
            "\u001b[0;32m<ipython-input-51-505786da657f>\u001b[0m in \u001b[0;36m<cell line: 1>\u001b[0;34m()\u001b[0m\n\u001b[0;32m----> 1\u001b[0;31m \u001b[0mprint\u001b[0m\u001b[0;34m(\u001b[0m\u001b[0mmodel\u001b[0m\u001b[0;34m.\u001b[0m\u001b[0mmost_similar\u001b[0m\u001b[0;34m(\u001b[0m\u001b[0mpositive\u001b[0m\u001b[0;34m=\u001b[0m\u001b[0;34m[\u001b[0m\u001b[0;34m\"woman\"\u001b[0m\u001b[0;34m,\u001b[0m \u001b[0;34m\"king\"\u001b[0m\u001b[0;34m]\u001b[0m\u001b[0;34m,\u001b[0m \u001b[0mnegative\u001b[0m\u001b[0;34m=\u001b[0m\u001b[0;34m[\u001b[0m\u001b[0;34m\"man\"\u001b[0m\u001b[0;34m]\u001b[0m\u001b[0;34m,\u001b[0m \u001b[0mtopn\u001b[0m\u001b[0;34m=\u001b[0m\u001b[0;36m10\u001b[0m\u001b[0;34m)\u001b[0m\u001b[0;34m)\u001b[0m\u001b[0;34m\u001b[0m\u001b[0;34m\u001b[0m\u001b[0m\n\u001b[0m\u001b[1;32m      2\u001b[0m \u001b[0mprint\u001b[0m\u001b[0;34m(\u001b[0m\u001b[0mmodel\u001b[0m\u001b[0;34m.\u001b[0m\u001b[0mmost_similar\u001b[0m\u001b[0;34m(\u001b[0m\u001b[0mpositive\u001b[0m\u001b[0;34m=\u001b[0m\u001b[0;34m[\u001b[0m\u001b[0;34m\"Paris\"\u001b[0m\u001b[0;34m,\u001b[0m \u001b[0;34m\"Germany\"\u001b[0m\u001b[0;34m]\u001b[0m\u001b[0;34m,\u001b[0m \u001b[0mnegative\u001b[0m\u001b[0;34m=\u001b[0m\u001b[0;34m[\u001b[0m\u001b[0;34m\"France\"\u001b[0m\u001b[0;34m]\u001b[0m\u001b[0;34m,\u001b[0m \u001b[0mtopn\u001b[0m\u001b[0;34m=\u001b[0m\u001b[0;36m10\u001b[0m\u001b[0;34m)\u001b[0m\u001b[0;34m)\u001b[0m\u001b[0;34m\u001b[0m\u001b[0;34m\u001b[0m\u001b[0m\n",
            "\u001b[0;31mNameError\u001b[0m: name 'model' is not defined"
          ]
        }
      ]
    },
    {
      "cell_type": "markdown",
      "source": [
        "### Wizualizacja Word2Vec"
      ],
      "metadata": {
        "id": "l4J2Dz_Aa3rE"
      }
    },
    {
      "cell_type": "code",
      "source": [
        "from sklearn.manifold import TSNE\n",
        "countries = [\n",
        "    \"France\",\n",
        "    \"Germany\",\n",
        "    \"Italy\",\n",
        "    \"Spain\",\n",
        "    \"USA\", \n",
        "    \"Canada\",\n",
        "    \"Mexico\",\n",
        "    \"Brazil\",\n",
        "    \"Argentina\",\n",
        "    \"China\",\n",
        "    \"Japan\",\n",
        "    \"Korea\",\n",
        "    \"India\",\n",
        "    \"Australia\",\n",
        "    \"Fiji\",\n",
        "    \"Uganda\",\n",
        "    \"Tanzania\",\n",
        "    \"Kenya\",\n",
        "    \"Egypt\",\n",
        "    \"Tunisia\",\n",
        "    \"Israel\",\n",
        "    \"Taiwan\",\n",
        "    \"Vietnam\",\n",
        "    \"Thailand\",\n",
        "    \"Laos\",\n",
        "    \"Mongolia\",\n",
        "    \"Pakistan\",\n",
        "    \"Arabia\",\n",
        "    \"Belarus\",\n",
        "    \"Ukraine\",\n",
        "    \"Lithuania\",\n",
        "    \"Poland\",\n",
        "    \"Denmark\",\n",
        "    \"Sweden\",\n",
        "    \"Norway\",\n",
        "    \"Colombia\",\n",
        "    \"Peru\",\n",
        "    \"Paraguay\"\n",
        "]\n",
        "\n",
        "vectors = []\n",
        "for country in countries:\n",
        "    vectors.append(model[country])\n",
        "vectors = np.array(vectors)\n",
        "\n",
        "tsne = TSNE(n_components=2, random_state=0, perplexity=10)\n",
        "vectors_2d = tsne.fit_transform(vectors)\n",
        "\n",
        "plt.figure(figsize=(10, 8))\n",
        "for i, country in enumerate(countries):\n",
        "    x, y = vectors_2d[i, :]\n",
        "    plt.scatter(x, y)\n",
        "    plt.annotate(country, xy=(x, y), xytext=(5, 2), textcoords='offset points', ha='right', va='bottom')\n",
        "plt.show() "
      ],
      "metadata": {
        "id": "JyrIn0gnbAxH",
        "colab": {
          "base_uri": "https://localhost:8080/",
          "height": 240
        },
        "outputId": "d906ec91-c9dd-47b2-b4b2-e7b639883b65"
      },
      "execution_count": 82,
      "outputs": [
        {
          "output_type": "error",
          "ename": "NameError",
          "evalue": "ignored",
          "traceback": [
            "\u001b[0;31m---------------------------------------------------------------------------\u001b[0m",
            "\u001b[0;31mNameError\u001b[0m                                 Traceback (most recent call last)",
            "\u001b[0;32m<ipython-input-82-79c4cd2959b7>\u001b[0m in \u001b[0;36m<cell line: 44>\u001b[0;34m()\u001b[0m\n\u001b[1;32m     43\u001b[0m \u001b[0mvectors\u001b[0m \u001b[0;34m=\u001b[0m \u001b[0;34m[\u001b[0m\u001b[0;34m]\u001b[0m\u001b[0;34m\u001b[0m\u001b[0;34m\u001b[0m\u001b[0m\n\u001b[1;32m     44\u001b[0m \u001b[0;32mfor\u001b[0m \u001b[0mcountry\u001b[0m \u001b[0;32min\u001b[0m \u001b[0mcountries\u001b[0m\u001b[0;34m:\u001b[0m\u001b[0;34m\u001b[0m\u001b[0;34m\u001b[0m\u001b[0m\n\u001b[0;32m---> 45\u001b[0;31m     \u001b[0mvectors\u001b[0m\u001b[0;34m.\u001b[0m\u001b[0mappend\u001b[0m\u001b[0;34m(\u001b[0m\u001b[0mmodel\u001b[0m\u001b[0;34m[\u001b[0m\u001b[0mcountry\u001b[0m\u001b[0;34m]\u001b[0m\u001b[0;34m)\u001b[0m\u001b[0;34m\u001b[0m\u001b[0;34m\u001b[0m\u001b[0m\n\u001b[0m\u001b[1;32m     46\u001b[0m \u001b[0mvectors\u001b[0m \u001b[0;34m=\u001b[0m \u001b[0mnp\u001b[0m\u001b[0;34m.\u001b[0m\u001b[0marray\u001b[0m\u001b[0;34m(\u001b[0m\u001b[0mvectors\u001b[0m\u001b[0;34m)\u001b[0m\u001b[0;34m\u001b[0m\u001b[0;34m\u001b[0m\u001b[0m\n\u001b[1;32m     47\u001b[0m \u001b[0;34m\u001b[0m\u001b[0m\n",
            "\u001b[0;31mNameError\u001b[0m: name 'model' is not defined"
          ]
        }
      ]
    },
    {
      "cell_type": "markdown",
      "source": [
        "Resouces:\n",
        "- [Illustrated Word2vec](https://jalammar.github.io/illustrated-word2vec/)"
      ],
      "metadata": {
        "id": "SnIVFJzTe6is"
      }
    },
    {
      "cell_type": "markdown",
      "source": [
        "### Fasttext"
      ],
      "metadata": {
        "id": "OH06OpCpuGEj"
      }
    },
    {
      "cell_type": "markdown",
      "source": [
        "Fasttext jest biblioteką podobnie dostarczającą embeddingi do słów jak Word2vec.\n",
        "\n",
        "W czym pomaga **fasttext**?\n",
        "\n",
        "W Word2vec tworzymy embeddingi pojedyńczych słów, nie jesteśmy w stanie otrzymać słowa spoza naszego słownika.\n",
        "\n",
        "Fasttext podchodzi inaczej: słowa, które są do siebie podobne (co do odległości edycyjnej) powinny mieć podobne embeddingi.\n",
        "\n",
        "Postanowiono je tworzyć na podstawie n-gramów na znakach (n od 3 do 6).\n",
        "\n",
        "Preprocessing:\n",
        "1. Dodajemy na początek słowa '<' a na koniec '>'.\n",
        "\n",
        "![](https://camo.githubusercontent.com/a6b3a68750abc738ebf32e5137a012b94e22ca8af965ac8375e35718c4ef92ca/68747470733a2f2f616d69746e6573732e636f6d2f696d616765732f66617374746578742d616e67756c61722d627261636b6574732e706e67)\n",
        "\n",
        "2. tworzymy n-gramy dla słowa\n",
        "3. Trenowane jest B (B-bucket size - hiperparametr) n-gramów (Liczba wszystkich jest ogromna). Każdy n-gram jest przetwarzany funkcją hashującą do liczby całkowitej ∈ [1, B].\n",
        "\n",
        "4. Do słownika dodajemy słowa występujące w zbiorze treningowym. Mamy B + |V| embeddingów.\n",
        "\n",
        "\n",
        "\n",
        "**Jak trenowany jest fasttext?**\n",
        "\n",
        "Embeddingi są trenowane wykorzystując skip-gram z negatywnym próbkowaniem. Czyli na podstawie słowa chcemy przewidzieć słowa sąsiadujące. Ale embedding słowa na podstawie, którego chcemy przewidywać to suma n-gramów i embeddingu tego słowa.\n",
        "\n",
        "![image.png](data:image/png;base64,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)\n"
      ],
      "metadata": {
        "id": "61YVXjS_iTni"
      }
    },
    {
      "cell_type": "markdown",
      "source": [
        "word2vec + subwordy"
      ],
      "metadata": {
        "id": "cQQA7anVsdd2"
      }
    },
    {
      "cell_type": "markdown",
      "source": [
        "## Real task"
      ],
      "metadata": {
        "id": "t8h6bL84uHhD"
      }
    },
    {
      "cell_type": "code",
      "source": [
        "import locale\n",
        "\n",
        "\n",
        "prev = locale.getpreferredencoding\n",
        "locale.getpreferredencoding = lambda: \"UTF-8\"\n",
        "\n",
        "!pip install transformers datasets evaluate sacremoses huggingface_hub\n",
        "locale.get_preferredencoding = prev"
      ],
      "metadata": {
        "id": "Rm04vzPSIi8l",
        "colab": {
          "base_uri": "https://localhost:8080/"
        },
        "outputId": "330b79e3-6384-45aa-97f8-c01fea8aeb05"
      },
      "execution_count": 86,
      "outputs": [
        {
          "output_type": "stream",
          "name": "stdout",
          "text": [
            "Looking in indexes: https://pypi.org/simple, https://us-python.pkg.dev/colab-wheels/public/simple/\n",
            "Requirement already satisfied: transformers in /usr/local/lib/python3.9/dist-packages (4.27.4)\n",
            "Requirement already satisfied: datasets in /usr/local/lib/python3.9/dist-packages (2.11.0)\n",
            "Requirement already satisfied: evaluate in /usr/local/lib/python3.9/dist-packages (0.4.0)\n",
            "Requirement already satisfied: sacremoses in /usr/local/lib/python3.9/dist-packages (0.0.53)\n",
            "Requirement already satisfied: huggingface_hub in /usr/local/lib/python3.9/dist-packages (0.13.3)\n",
            "Requirement already satisfied: requests in /usr/local/lib/python3.9/dist-packages (from transformers) (2.27.1)\n",
            "Requirement already satisfied: tokenizers!=0.11.3,<0.14,>=0.11.1 in /usr/local/lib/python3.9/dist-packages (from transformers) (0.13.2)\n",
            "Requirement already satisfied: filelock in /usr/local/lib/python3.9/dist-packages (from transformers) (3.10.7)\n",
            "Requirement already satisfied: regex!=2019.12.17 in /usr/local/lib/python3.9/dist-packages (from transformers) (2022.10.31)\n",
            "Requirement already satisfied: tqdm>=4.27 in /usr/local/lib/python3.9/dist-packages (from transformers) (4.65.0)\n",
            "Requirement already satisfied: numpy>=1.17 in /usr/local/lib/python3.9/dist-packages (from transformers) (1.22.4)\n",
            "Requirement already satisfied: packaging>=20.0 in /usr/local/lib/python3.9/dist-packages (from transformers) (23.0)\n",
            "Requirement already satisfied: pyyaml>=5.1 in /usr/local/lib/python3.9/dist-packages (from transformers) (6.0)\n",
            "Requirement already satisfied: multiprocess in /usr/local/lib/python3.9/dist-packages (from datasets) (0.70.14)\n",
            "Requirement already satisfied: fsspec[http]>=2021.11.1 in /usr/local/lib/python3.9/dist-packages (from datasets) (2023.3.0)\n",
            "Requirement already satisfied: pandas in /usr/local/lib/python3.9/dist-packages (from datasets) (1.4.4)\n",
            "Requirement already satisfied: dill<0.3.7,>=0.3.0 in /usr/local/lib/python3.9/dist-packages (from datasets) (0.3.6)\n",
            "Requirement already satisfied: xxhash in /usr/local/lib/python3.9/dist-packages (from datasets) (3.2.0)\n",
            "Requirement already satisfied: aiohttp in /usr/local/lib/python3.9/dist-packages (from datasets) (3.8.4)\n",
            "Requirement already satisfied: responses<0.19 in /usr/local/lib/python3.9/dist-packages (from datasets) (0.18.0)\n",
            "Requirement already satisfied: pyarrow>=8.0.0 in /usr/local/lib/python3.9/dist-packages (from datasets) (9.0.0)\n",
            "Requirement already satisfied: joblib in /usr/local/lib/python3.9/dist-packages (from sacremoses) (1.1.1)\n",
            "Requirement already satisfied: click in /usr/local/lib/python3.9/dist-packages (from sacremoses) (8.1.3)\n",
            "Requirement already satisfied: six in /usr/local/lib/python3.9/dist-packages (from sacremoses) (1.16.0)\n",
            "Requirement already satisfied: typing-extensions>=3.7.4.3 in /usr/local/lib/python3.9/dist-packages (from huggingface_hub) (4.5.0)\n",
            "Requirement already satisfied: attrs>=17.3.0 in /usr/local/lib/python3.9/dist-packages (from aiohttp->datasets) (22.2.0)\n",
            "Requirement already satisfied: async-timeout<5.0,>=4.0.0a3 in /usr/local/lib/python3.9/dist-packages (from aiohttp->datasets) (4.0.2)\n",
            "Requirement already satisfied: charset-normalizer<4.0,>=2.0 in /usr/local/lib/python3.9/dist-packages (from aiohttp->datasets) (2.0.12)\n",
            "Requirement already satisfied: yarl<2.0,>=1.0 in /usr/local/lib/python3.9/dist-packages (from aiohttp->datasets) (1.8.2)\n",
            "Requirement already satisfied: multidict<7.0,>=4.5 in /usr/local/lib/python3.9/dist-packages (from aiohttp->datasets) (6.0.4)\n",
            "Requirement already satisfied: aiosignal>=1.1.2 in /usr/local/lib/python3.9/dist-packages (from aiohttp->datasets) (1.3.1)\n",
            "Requirement already satisfied: frozenlist>=1.1.1 in /usr/local/lib/python3.9/dist-packages (from aiohttp->datasets) (1.3.3)\n",
            "Requirement already satisfied: certifi>=2017.4.17 in /usr/local/lib/python3.9/dist-packages (from requests->transformers) (2022.12.7)\n",
            "Requirement already satisfied: idna<4,>=2.5 in /usr/local/lib/python3.9/dist-packages (from requests->transformers) (3.4)\n",
            "Requirement already satisfied: urllib3<1.27,>=1.21.1 in /usr/local/lib/python3.9/dist-packages (from requests->transformers) (1.26.15)\n",
            "Requirement already satisfied: pytz>=2020.1 in /usr/local/lib/python3.9/dist-packages (from pandas->datasets) (2022.7.1)\n",
            "Requirement already satisfied: python-dateutil>=2.8.1 in /usr/local/lib/python3.9/dist-packages (from pandas->datasets) (2.8.2)\n"
          ]
        }
      ]
    },
    {
      "cell_type": "code",
      "source": [
        "# Huggingface stuff\n",
        "from transformers import AutoTokenizer\n",
        "# from datasets import Dataset, DatasetDict\n",
        "# import evaluate\n",
        "\n",
        "import seaborn as sns\n",
        "\n",
        "from tqdm import tqdm\n",
        "\n",
        "from sklearn.preprocessing import StandardScaler\n",
        "from sklearn.linear_model import LogisticRegression\n",
        "\n",
        "from sklearn.feature_extraction.text import CountVectorizer\n",
        "from sklearn.metrics import balanced_accuracy_score, confusion_matrix\n",
        "\n",
        "from collections import Counter\n",
        "\n",
        "import os\n",
        "\n",
        "import pandas as pd\n",
        "import numpy as np\n",
        "\n",
        "\n",
        "\n",
        "SPLIT_RANDOM_STATE = 42"
      ],
      "metadata": {
        "id": "XNG1gwhEIdub"
      },
      "execution_count": 88,
      "outputs": []
    },
    {
      "cell_type": "code",
      "source": [
        "BASE_DIR = \"/content/drive/MyDrive/bootcamp_level_up\"\n",
        "\n",
        "with open(os.path.join(BASE_DIR, 'data', 'training_set_clean_only_text.txt'), 'r', encoding='utf-8') as f:\n",
        "    feature_lines = [line.strip() for line in f.readlines()]\n",
        "\n",
        "with open(os.path.join(BASE_DIR, \"data\", \"training_set_clean_only_tags.txt\"), 'r', encoding='utf-8') as f:\n",
        "    label_lines = [line.strip() for line in f.readlines()]\n"
      ],
      "metadata": {
        "id": "e3Lf6LFHJ5s3"
      },
      "execution_count": null,
      "outputs": []
    },
    {
      "cell_type": "code",
      "source": [
        "print(len(label_lines))\n",
        "print(len(feature_lines))"
      ],
      "metadata": {
        "id": "tsb3X0wAJ50b"
      },
      "execution_count": null,
      "outputs": []
    },
    {
      "cell_type": "code",
      "source": [
        "dataset = pd.DataFrame({'text': feature_lines, 'labels': label_lines})\n",
        "dataset.labels = dataset.labels.astype('int')"
      ],
      "metadata": {
        "id": "XxLtXrohKMYI"
      },
      "execution_count": null,
      "outputs": []
    },
    {
      "cell_type": "code",
      "source": [
        "dataset['labels'].value_counts()"
      ],
      "metadata": {
        "id": "FM3sfcDtKjt4"
      },
      "execution_count": null,
      "outputs": []
    },
    {
      "cell_type": "markdown",
      "source": [
        "### Data Preprocessing"
      ],
      "metadata": {
        "id": "-TBgczojKe4g"
      }
    },
    {
      "cell_type": "code",
      "source": [
        "def preprocess_text(value: str) -> str:\n",
        "    \"\"\"\n",
        "    Removing words that start from @ (nicknames)\n",
        "    as well as the newlines\n",
        "    And replacing \\\\\" (encoded) with the \"\n",
        "\n",
        "    :param value: text to clean\n",
        "    \n",
        "    :returns: cleaned text\n",
        "    \"\"\"\n",
        "\n",
        "    words = value.split(' ')\n",
        "    new_string = \" \".join([word if not word.startswith('@') and len(word) > 0 else \"\" for word in words]).strip()\n",
        "\n",
        "    return new_string.replace('\\\\n', \" \").replace('\\\\\"', '\"')"
      ],
      "metadata": {
        "id": "s0ffF120KdmE"
      },
      "execution_count": null,
      "outputs": []
    },
    {
      "cell_type": "markdown",
      "source": [
        "### Baseline Model - CountVectorizer + LogReg"
      ],
      "metadata": {
        "id": "tS7xQJqhIVRy"
      }
    },
    {
      "cell_type": "code",
      "source": [
        "X = dataset['text'].str.lower()\n",
        "y = dataset['labels']\n",
        "\n",
        "vect_dataset = pd.concat([X, y], axis=1)\n",
        "\n",
        "train_set = vect_dataset.sample(frac=0.8, random_state=SPLIT_RANDOM_STATE)\n",
        "val_set = vect_dataset[~vect_dataset.index.isin(train_set.index)]\n",
        "\n",
        "X_train, y_train = train_set['text'], train_set['labels']\n",
        "X_val, y_val = val_set['text'], val_set['labels']\n",
        "\n",
        "vectorizer = CountVectorizer()\n",
        "\n",
        "X_train = vectorizer.fit_transform(X_train)\n",
        "X_val = vectorizer.transform(X_val)"
      ],
      "metadata": {
        "id": "Sq8yc1zFIVa-"
      },
      "execution_count": null,
      "outputs": []
    },
    {
      "cell_type": "code",
      "source": [
        "clf = LogisticRegression(class_weight='balanced', max_iter=10000)\n",
        "\n",
        "clf.fit(X_train, y_train)\n",
        "\n",
        "# Evaluate the model\n",
        "y_pred = clf.predict(X_val)\n",
        "accuracy = balanced_accuracy_score(y_val, y_pred) # do obsluzenia niezbalansowanego zbioru danych\n",
        "\n",
        "print(f\"Balanced accuracy: {round(100 * accuracy, 2)}%\")"
      ],
      "metadata": {
        "id": "aOE5UeFQIVhu"
      },
      "execution_count": null,
      "outputs": []
    },
    {
      "cell_type": "code",
      "source": [
        "cf_matrix = confusion_matrix(y_val, y_pred)\n",
        "sns.heatmap(cf_matrix, annot=True)"
      ],
      "metadata": {
        "id": "GtCKtCQdM5TQ"
      },
      "execution_count": null,
      "outputs": []
    },
    {
      "cell_type": "markdown",
      "source": [
        "### BERT embeddings + LogReg"
      ],
      "metadata": {
        "id": "XA5DASeTer5V"
      }
    },
    {
      "cell_type": "markdown",
      "source": [
        "### Data Preparation for BERT\n"
      ],
      "metadata": {
        "id": "F19OIzcprgfA"
      }
    },
    {
      "cell_type": "code",
      "source": [
        "def tokenize_function(tokenizer, examples):\n",
        "    return tokenizer(examples[\"text\"].to_list(), padding=\"max_length\", truncation=True)['input_ids']\n",
        "\n",
        "def tokenize_pandas(tokenizer, train_set, val_set):\n",
        "\n",
        "    tokenized_train = tokenize_function(tokenizer, train_set)\n",
        "    tokenized_val = tokenize_function(tokenizer, val_set)\n",
        "    \n",
        "    # type(tokenized_train)\n",
        "    tokenized_train_df = pd.concat([pd.DataFrame(tokenized_train).reset_index(drop=True), train_set['labels'].reset_index(drop=True)], axis=1)\n",
        "    tokenized_val_df = pd.concat([pd.DataFrame(tokenized_val).reset_index(drop=True), val_set['labels'].reset_index(drop=True)], axis=1)\n",
        "\n",
        "    return tokenized_train_df, tokenized_val_df\n",
        "\n",
        "def scale(tokenized_train_df, tokenized_val_df):\n",
        "    scaler = StandardScaler()\n",
        "\n",
        "    train_X, train_y = tokenized_train_df.drop('labels', axis=1), tokenized_train_df['labels']\n",
        "    val_X, val_y = tokenized_val_df.drop('labels', axis=1), tokenized_val_df['labels']\n",
        "\n",
        "    train_X_columns = train_X.columns\n",
        "    val_X_columns = val_X.columns\n",
        "\n",
        "    scaler.fit(train_X)\n",
        "    train_X = pd.DataFrame(scaler.transform(train_X), columns=train_X_columns)\n",
        "    val_X = pd.DataFrame(scaler.transform(val_X), columns=val_X_columns)\n",
        "\n",
        "    return train_X, train_y, val_X, val_y"
      ],
      "metadata": {
        "id": "tiubffCWslWu"
      },
      "execution_count": null,
      "outputs": []
    },
    {
      "cell_type": "code",
      "source": [
        "TOKENIZER_NAME = \"allegro/herbert-base-cased\"\n",
        "\n",
        "herbert_tokenizer = AutoTokenizer.from_pretrained(TOKENIZER_NAME)\n",
        "\n",
        "train_set = dataset.sample(frac=0.8, random_state=42)\n",
        "val_set = dataset[~dataset.index.isin(train_set.index)]\n",
        "\n",
        "train_set, val_set = tokenize_pandas(herbert_tokenizer, train_set, val_set)\n",
        "train_X, train_y, val_X, val_y = scale(train_set, val_set)"
      ],
      "metadata": {
        "id": "Lse1oyvEFF0t"
      },
      "execution_count": null,
      "outputs": []
    },
    {
      "cell_type": "code",
      "source": [
        "print(train_y.value_counts())\n",
        "print(val_y.value_counts())"
      ],
      "metadata": {
        "id": "_8-0EUGFFJfy"
      },
      "execution_count": null,
      "outputs": []
    },
    {
      "cell_type": "code",
      "source": [
        "model = LogisticRegression(class_weight='balanced', max_iter=1000)\n",
        "model.fit(train_X, train_y)\n",
        "\n",
        "preds = model.predict(val_X)\n",
        "\n",
        "bal_acc = balanced_accuracy_score(val_y, preds)\n",
        "\n",
        "print(f\"Balanced accuracy: {round(100 * bal_acc, 2)}%\")"
      ],
      "metadata": {
        "id": "s7nBWPJJGBWo"
      },
      "execution_count": null,
      "outputs": []
    },
    {
      "cell_type": "code",
      "source": [
        "cf_matrix = confusion_matrix(val_y, preds)\n",
        "sns.heatmap(cf_matrix, annot=True, cmap='Blues')"
      ],
      "metadata": {
        "id": "SxIr77SbPZCj"
      },
      "execution_count": null,
      "outputs": []
    },
    {
      "cell_type": "markdown",
      "source": [
        "### Now with added weights"
      ],
      "metadata": {
        "id": "Y88yxycJGKdz"
      }
    },
    {
      "cell_type": "code",
      "source": [
        "freqs = dict(Counter(train_set['labels'])).values()\n",
        "N_CLASSES = len(set(train_set['labels']))\n",
        "\n",
        "global_weights = {i: len(train_set['labels']) / (freq * N_CLASSES) for i, freq in enumerate(freqs)}\n",
        "\n",
        "print(global_weights)"
      ],
      "metadata": {
        "id": "qON-iYZwGNC4"
      },
      "execution_count": null,
      "outputs": []
    },
    {
      "cell_type": "code",
      "source": [
        "model_weighted = LogisticRegression(class_weight=global_weights, max_iter=10000)\n",
        "model_weighted.fit(train_X, train_y)\n",
        "\n",
        "preds_weighted = model_weighted.predict(val_X)\n",
        "\n",
        "bal_acc_weighted = balanced_accuracy_score(val_y, preds_weighted)\n",
        "\n",
        "print(f\"Balanced accuracy: {round(100 * bal_acc_weighted, 2)}%\")"
      ],
      "metadata": {
        "id": "PRNgccMXGpJP"
      },
      "execution_count": null,
      "outputs": []
    },
    {
      "cell_type": "code",
      "source": [
        "cf_matrix = confusion_matrix(val_y, preds_weighted)\n",
        "sns.heatmap(cf_matrix, annot=True, cmap='Blues')"
      ],
      "metadata": {
        "id": "bRMBUGbRPbKB"
      },
      "execution_count": null,
      "outputs": []
    },
    {
      "cell_type": "markdown",
      "source": [
        "### Zadanie\n",
        "\n",
        "\n",
        "Dotrenować model BERTa do balanced accuracy na poziomie 65%"
      ],
      "metadata": {
        "id": "tZjUydXeI1ct"
      }
    },
    {
      "cell_type": "markdown",
      "source": [
        "https://huggingface.co/docs/transformers/training"
      ],
      "metadata": {
        "id": "xPGjrDDtJqWs"
      }
    },
    {
      "cell_type": "code",
      "source": [
        "# Rozwiazanie tutaj"
      ],
      "metadata": {
        "id": "dqooYEivW8r5"
      },
      "execution_count": null,
      "outputs": []
    },
    {
      "cell_type": "markdown",
      "source": [
        "## Links & Resources"
      ],
      "metadata": {
        "id": "JhsLfXsQW8zs"
      }
    },
    {
      "cell_type": "markdown",
      "source": [
        "Sub-word tokenizers\n",
        "\n",
        "- [Byte-Pair Encoding](https://arxiv.org/abs/1508.07909)\n",
        "- [WordPiece](https://ai.googleblog.com/2021/12/a-fast-wordpiece-tokenization-system.html)\n",
        "- [Unigram Language Model](https://arxiv.org/pdf/1804.10959.pdf)\n",
        "- [Sentence Piece](https://jacky2wong.medium.com/understanding-sentencepiece-under-standing-sentence-piece-ac8da59f6b08)\n",
        "\n",
        "\n",
        "Embeddingi\n",
        "\n",
        "- [Word2vec](https://arxiv.org/abs/1301.3781)\n",
        "- [GloVe](https://nlp.stanford.edu/projects/glove/)\n",
        "- [FastText](https://arxiv.org/pdf/1607.04606.pdf)\n",
        "- [Doc2Vec](https://arxiv.org/pdf/1301.3781.pdf)\n",
        "\n",
        "Biblioteki\n",
        "\n",
        "- [NLTK](https://www.nltk.org/)\n",
        "- [re](https://docs.python.org/3/library/re.html)\n",
        "- [spaCy](https://spacy.io/)\n",
        "- [FastText](https://fasttext.cc/)\n",
        "- [Hugginface Tokenizers](https://huggingface.co/docs/tokenizers/index)\n",
        "- [Gensim](https://radimrehurek.com/gensim/)\n",
        "\n",
        "\n",
        "[Polish NLP Resources](https://github.com/sdadas/polish-nlp-resources#word2vec)\n",
        "\n",
        "[OG potężny notebook od Maćka Chrabąszcza](https://github.com/KNSI-Golem/BootcampGeneral/blob/main/2021/meetings/meeting_10_NLP/notebook.ipynb)\n"
      ],
      "metadata": {
        "id": "w1UaMYYmW_o_"
      }
    },
    {
      "cell_type": "code",
      "source": [],
      "metadata": {
        "id": "KBFtymBw5Cyu"
      },
      "execution_count": null,
      "outputs": []
    }
  ]
}